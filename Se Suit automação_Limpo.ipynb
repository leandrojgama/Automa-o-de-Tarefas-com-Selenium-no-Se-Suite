{
 "cells": [
  {
   "cell_type": "markdown",
   "id": "6cabc734",
   "metadata": {},
   "source": [
    "# OOP"
   ]
  },
  {
   "cell_type": "code",
   "execution_count": 1,
   "id": "996659f8",
   "metadata": {},
   "outputs": [],
   "source": [
    "from selenium import webdriver\n",
    "from selenium.common.exceptions import NoSuchElementException, NoSuchWindowException \n",
    "from selenium.webdriver.common.keys import Keys\n",
    "from selenium.webdriver.chrome.service import Service\n",
    "from selenium.webdriver import ActionChains\n",
    "from selenium.webdriver.common.by import By\n",
    "import pyautogui as pg\n",
    "import time as tm\n",
    "from selenium.webdriver.chrome.options import Options\n",
    "import os\n",
    "import win32com.client \n",
    "import requests\n",
    "import pandas as pd\n",
    "class Elemento:\n",
    "    def __init__(self,nome,path,driver):\n",
    "        self.path=path\n",
    "        self.nome=nome        \n",
    "    def getPath(self):\n",
    "        return str(self.path)    \n",
    "    def getNome(self):\n",
    "        return str(self.nome) \n",
    "    \n",
    "class Driver():    \n",
    "    def __init__(self):        \n",
    "        #options = webdriver.ChromeOptions() \n",
    "        #options.add_argument(\"download.default_directory=C:/Temp\")       \n",
    "        #options.add_argument(\"--start-maximized\");   \n",
    "        s=os.path.join('C:\\\\Workspace\\\\FUNED AUTOMAÇÃO','chromedriver.exe')\n",
    "        #webdriver.Chrome(executable_path=s)\n",
    "        self.driver=webdriver.Chrome(executable_path=s)#\n",
    "        self.driver.get(\"http://srvsesuite.funed.lan/se/index.php\")\n",
    "       \n",
    "    def logar(self): \n",
    "        handles=self.driver.window_handles\n",
    "        self.driver.switch_to.window(handles[0]) \n",
    "        #tm.sleep(1)\n",
    "        shell = win32com.client.Dispatch(\"WScript.Shell\")\n",
    "        tm.sleep(0.5)\n",
    "        #shell.Sendkeys('%'+\"{TAB}\")\n",
    "        tm.sleep(1)\n",
    "        #shell.Sendkeys('%'+\"{TAB}\")\n",
    "        tm.sleep(0.5)\n",
    "        shell.Sendkeys('leandro.gama')  \n",
    "        #tm.sleep(2)\n",
    "        shell.Sendkeys(\"{TAB}\")\n",
    "        #tm.sleep(2)\n",
    "        shell.Sendkeys('Mansel!00') \n",
    "        #tm.sleep(1)\n",
    "        shell.Sendkeys(\"{ENTER}\")\n",
    "        \n",
    "       \n",
    "\n",
    "        \n",
    "    def logar1(self):        \n",
    "        handles=self.driver.window_handles\n",
    "        self.driver.switch_to.window(handles[0]) \n",
    "        tm.sleep(1)\n",
    "        self.driver.maximize_window()        \n",
    "        tm.sleep(2)        \n",
    "        \n",
    "        pg.keyDown('alt')\n",
    "        tm.sleep(.1)\n",
    "        pg.press('tab')\n",
    "        tm.sleep(.2)       \n",
    "        pg.press('tab')\n",
    "        tm.sleep(.2)\n",
    "        pg.keyUp('alt')\n",
    "        tm.sleep(2)\n",
    "        \n",
    "        pg.write('leandro.gama')        \n",
    "        pg.press('tab')\n",
    "        tm.sleep(1)       \n",
    "        pg.write('Mansel@00')\n",
    "        pg.press('enter')   \n",
    "    def get_driver(self):        \n",
    "        return self.driver        \n",
    "    def close(self):\n",
    "        self.driver.close()\n",
    "       \n",
    "        \n",
    "class Acao:\n",
    "    def __init__(self,driver):     \n",
    "        self.nav=driver\n",
    "        self.key=ActionChains(nav)\n",
    "        #self.janela_principal=Janela(nav.window_handles[0])        \n",
    "    def click_xpath(self,xpath):\n",
    "        \n",
    "        elm=self.nav.find_element(By.XPATH,xpath)\n",
    "        if type(elm)==list:\n",
    "            elm[0].click()\n",
    "        else:\n",
    "            elm.click()\n",
    "    def write_xpath(self,xpath,texto,busca=False):\n",
    "        elem=self.nav.find_element(By.XPATH,xpath)\n",
    "        elem.clear()\n",
    "        elem.send_keys(texto)\n",
    "        if busca==True:\n",
    "            elem.send_keys(Keys.RETURN)\n",
    "            \n",
    "    def enter(self,path=''):\n",
    "        if len(path)>0:\n",
    "            elem=self.nav.find_element(By.XPATH,path)\n",
    "            elem.send_keys(Keys.RETURN)\n",
    "        else:\n",
    "            self.key.send_keys(Keys.RETURN).perform()\n",
    "    def down(self):       \n",
    "        self.key.send_keys(Keys.DOWN).perform()\n",
    "        \n",
    "    def trocar_janela(self,janela):\n",
    "        self.nav.switch_to.window(janela)\n",
    "        self.iframe_default()\n",
    "    def iframe_default(self):    \n",
    "        self.nav.switch_to.default_content()\n",
    "    def tabela_tamanho(self,xpath):        \n",
    "        t=len(self.nav.find_elements(By.XPATH,xpath))           \n",
    "        return t\n",
    "    def tabela_celulas(self,xpath):\n",
    "        return self.nav.find_element(By.XPATH,xpath)\n",
    "        \n",
    "    def acesso_frames(self,frames,i=0,f=0):\n",
    "        self.iframe_default()   \n",
    "        #print(frames)\n",
    "        #frames[0]\n",
    "        if f==0:\n",
    "            f=len(frames)\n",
    "               \n",
    "        for fr in range(i,f):\n",
    "            #print(frames[fr])\n",
    "            \n",
    "            iframe=self.nav.find_element(By.XPATH,frames[fr])\n",
    "            self.nav.switch_to.frame(iframe)\n",
    "    def acesso_frame(self,frame):   \n",
    "        \n",
    "        iframe=self.nav.find_element(By.XPATH,frame)\n",
    "        nav.switch_to.frame(iframe)              \n",
    "            \n",
    "    def test_acesso_elemento(self,frames,elemento):\n",
    "        try:            \n",
    "                self.acesso_frames(frames)\n",
    "                elemento=self.nav.find_element(By.XPATH,elemento)\n",
    "        except NoSuchElementException:\n",
    "            return False\n",
    "        return True\n",
    "    def css_atributo_contains(self,xpath,atributo,valor):           \n",
    "\n",
    "        t=self.nav.find_element(By.XPATH,xpath)\n",
    "        e=t.get_attribute(atributo)\n",
    "        if valor in e:\n",
    "            return True\n",
    "        return False\n",
    "    def get_css_atributo(self,xpath,atributo):           \n",
    "\n",
    "        t=self.nav.find_element(By.XPATH,xpath)\n",
    "        e=t.get_attribute(atributo)\n",
    "       \n",
    "        return e\n",
    "    def get_text(self,xpath):           \n",
    "        \n",
    "        t=self.nav.find_element(By.XPATH,xpath)\n",
    "        e=t.text\n",
    "        \n",
    "       \n",
    "        return e\n",
    "    def exist_by_xpath(self,xpath):\n",
    "        try:\n",
    "            self.nav.find_element(By.XPATH,xpath)\n",
    "        except NoSuchElementException:\n",
    "            return False\n",
    "        return True\n",
    "    def remover_janela(self,janela):\n",
    "        x=self.nav.window_handles.remove(janela)\n",
    "    def getId_Ultima_Janela(self):\n",
    "        \n",
    "        return self.nav.window_handles[-1]\n",
    "    def close(self):\n",
    "        self.nav.close()\n",
    "        \n",
    "            \n",
    "    \n",
    "class Janela(Acao):\n",
    "    \n",
    "    def __init__(self,id,driver):        \n",
    "        self.id=id\n",
    "                   \n",
    "        self.sub_janela=[]\n",
    "        \n",
    "        Acao.__init__(self,driver)\n",
    "    \n",
    "     \n",
    "    def addSub_janelas(self,janela):        \n",
    "            self.sub_janela.append(janela)  \n",
    "    def addSub_janelas(self,janela):        \n",
    "            self.sub_janela.remove(janela) \n",
    "    def setSub_janelas(self,*janela):\n",
    "        self.sub_janela=janela        \n",
    "    def getSub_janelas(self):\n",
    "        return self.sub_janela\n",
    "    def acesso_frames(self,frame,i=0,f=0):\n",
    "        fr=self.frames[frame]        \n",
    "        super().acesso_frames(fr,i,f)\n",
    "    \n",
    "    \n",
    "    \n",
    "    \n",
    "class Menu(Janela):\n",
    "    \n",
    "    \n",
    "    def __init__(self,id,driver):        \n",
    "        Janela.__init__(self,id,driver)\n",
    "        self.frames={\"esquerda\":['//*[@id=\"isosystem_contentfrm\"]','//*[@id=\"isoleft\"]',\n",
    "        '//*[@id=\"isoleft_filter\"]'],\n",
    "        \"direita\":['//*[@id=\"isosystem_contentfrm\"]','//*[@id=\"isoright\"]'],\n",
    "        \"direita_sintetico\":['//*[@id=\"isosystem_contentfrm\"]','//*[@id=\"isoright\"]','//*[@id=\"consultview_sin\"]','//*[@id=\"iitemsin\"]'],                     \n",
    "        'topo':['//*[@id=\"isoleft_filter\"]']}\n",
    "        \n",
    "        \n",
    "        \n",
    "        \n",
    "    def acessar_menu(self,*menu):\n",
    "        self.iframe_default()\n",
    "        self.click_xpath('//*[@id=\"imgWidget\"]')\n",
    "        \n",
    "        menus=[{},{},{}]  \n",
    "        menus[0]['manutencao']='//*[@id=\"ext-gen119\"]/div/li[4]/div'\n",
    "        menus[1]['gestao']='//*[@id=\"ext-gen119\"]/div/li[4]/ul/li[2]/div'\n",
    "        menus[1]['consulta']='//*[@id=\"ext-gen119\"]/div/li[4]/ul/li[4]/div'\n",
    "        menus[2]['programacao']='//*[@id=\"ext-gen119\"]/div/li[4]/ul/li[2]/ul/li[1]/div/a/span'\n",
    "        menus[2]['atividade']='//*[@id=\"ext-gen119\"]/div/li[4]/ul/li[4]/ul/li[1]/div/a/span'\n",
    "        \n",
    "        cont=0\n",
    "        \n",
    "        for m in menu:           \n",
    "            if cont<2:                \n",
    "                if self.css_atributo_contains(menus[cont][m],'class','x-tree-node-collapsed'):\n",
    "                    self.click_xpath(menus[cont][m])\n",
    "            else:\n",
    "                self.click_xpath(menus[cont][m])\n",
    "            cont+=1\n",
    "    def organiza_busca(self):\n",
    "        self.acesso_frames('direita')\n",
    "        id='//*[@id=\"t_content_grobject\"]/thead/tr[2]/th[4]/nobr/a'        \n",
    "        if self.exist_by_xpath(id):\n",
    "            self.click_xpath('//*[@id=\"t_content_grobject\"]/thead/tr[2]/th[4]/nobr/a')\n",
    "        tm.sleep(5)\n",
    "        max=self.get_text('//*[@id=\"tdFooter\"]/table[3]/tbody/tr/td[2]')\n",
    "        m=''\n",
    "        for i in max:\n",
    "            if i.isdecimal():\n",
    "                m+=i\n",
    "        max=int(m)\n",
    "        sel=int(self.get_css_atributo('//*[@id=\"grobject-nrregpage\"]','value'))\n",
    "        #print('max ',max)\n",
    "        print('sel ',sel)\n",
    "        if max>sel:\n",
    "            #rel.get_css_atributo('//*[@id=\"grobject-nrregpage\"]','value')\n",
    "            print('*******sim')\n",
    "                \n",
    "                \n",
    "       \n",
    "class ProgramacaoAtividade(Menu):\n",
    "    def __init__(self,id,driver):\n",
    "        Menu.__init__(self,id,driver)\n",
    "\n",
    "\n",
    "\n",
    "    def programacao_busca_atividade(self,texto,busca=False,datai='',dataf=''):\n",
    "        \n",
    "        self.trocar_janela(self.id)\n",
    "        self.acessar_menu('manutencao','gestao','programacao')       \n",
    "        self.acesso_frames('esquerda',0,2)\n",
    "        self.click_xpath('//*[@id=\"content_list\"]/div/div[1]/h2[2]')\n",
    "        self.acesso_frames('esquerda')\n",
    "        \n",
    "        while True:\n",
    "            if self.exist_by_xpath('//*[@id=\"idactivity\"]'):\n",
    "                break\n",
    "        if len(datai)>0: \n",
    "            self.write_xpath('//*[@id=\"dtstartplan\"]',datai)\n",
    "        if len(dataf)>0:\n",
    "            self.write_xpath('//*[@id=\"dtfinishplan\"]',dataf)  \n",
    "        self.write_xpath('//*[@id=\"idactivity\"]',texto,busca) \n",
    "        if busca==True:\n",
    "            self.enter()\n",
    "        \n",
    "        self.organiza_busca()\n",
    "          \n",
    "       \n",
    "    \n",
    "        \n",
    "\n",
    "    def getUrl_download(self):\n",
    "        ##Download Click\n",
    "        self.trocar_janela(self.id)        \n",
    "        self.acesso_frames('direita',0,1)\n",
    "        self.click_xpath('//*[@id=\"se_admin_btnreport\"]/img')\n",
    "        self.click_xpath('//*[@id=\"btnreport2\"]')\n",
    "        #download Get URL  \n",
    "        self.trocar_janela(self.getId_Ultima_Janela())\n",
    "        start=tm.time()\n",
    "        while True:\n",
    "            if self.exist_by_xpath('//*[@id=\"reportPdfFrame\"]')==True:                \n",
    "                if len(self.get_css_atributo('//*[@id=\"reportPdfFrame\"]','src'))>0:\n",
    "                    pdf=self.get_css_atributo('//*[@id=\"reportPdfFrame\"]','src')\n",
    "                    return pdf\n",
    "            end=tm.time()\n",
    "            tempototal=end-start\n",
    "            if tempototal>30:\n",
    "                \n",
    "                return False\n",
    "    \n",
    "    def download_pdf(self,nome,url):\n",
    "        \n",
    "        file_url = url\n",
    "\n",
    "        r = requests.get(file_url, stream = True)\n",
    "\n",
    "        with open(\"c:\\\\Temp\\\\\"+nome+\".pdf\",\"wb\") as pdf:\n",
    "            for chunk in r.iter_content(chunk_size=1024):\n",
    "\n",
    "             # writing one chunk at a time to pdf file\n",
    "             if chunk:\n",
    "                 pdf.write(chunk)\n",
    "    \n",
    "    def teste(self,i=1,f=1):\n",
    "        tError=0\n",
    "        self.trocar_janela(self.id)\n",
    "        self.acesso_frames('direita')   \n",
    "        id_os=''\n",
    "       \n",
    "        \n",
    "        if f==1:\n",
    "            total_OS=self.tabela_tamanho('/html/body/div[2]/table/tbody/tr[1]/td/div/table/tbody/tr')+1\n",
    "        elif i==f:\n",
    "            total_OS=i+1\n",
    "        else:\n",
    "            total_OS=f\n",
    "                \n",
    "    \n",
    "        for linha in  range(i,total_OS):\n",
    "            \n",
    "                self.trocar_janela(self.id)\n",
    "                self.acesso_frames('direita')    \n",
    "                print('ini',linha,'__f',total_OS)\n",
    "                col=str(6) #5 - id - MP / 6 - id ativo\n",
    "                id_os=self.get_css_atributo(f'//*[@id=\"t_content_grobject\"]/tbody/tr[{str(linha)}]/td[{col}]/nobr',\"innerHTML\")\n",
    "                col=str(5) #5 - id - MP / 6 - id ativo\n",
    "                id_os+='_'+self.get_css_atributo(f'//*[@id=\"t_content_grobject\"]/tbody/tr[{str(linha)}]/td[{col}]/nobr',\"innerHTML\")\n",
    "\n",
    "                self.click_xpath(f'//*[@id=\"t_content_grobject\"]/tbody/tr[{str(linha)}]/td[{col}]/nobr')\n",
    "                #-----------------------------------------------------\n",
    "\n",
    "                tentativa=0\n",
    "\n",
    "                while True:\n",
    "                    try:\n",
    "                        dUrl=self.getUrl_download()\n",
    "                        print(dUrl,'--',type(dUrl))\n",
    "                        if  type(dUrl) is str:\n",
    "                            self.download_pdf(id_os,dUrl)\n",
    "                            break \n",
    "                        else:\n",
    "                            tentativa+=1\n",
    "                        print('cont:',tentativa)\n",
    "                        if tentativa>2:\n",
    "                            raise TypeError(\"Numero de tentaivas de obter Url de Download excedido\")\n",
    "                    except Exception as e:\n",
    "                       \n",
    "                        #self.close()\n",
    "                        tError+=1\n",
    "                        break\n",
    "\n",
    "                if tError>2:\n",
    "                    \n",
    "                    self.fechar()\n",
    "                    break\n",
    "    \n",
    "\n",
    "        \n",
    "   \n",
    "\n",
    "\n",
    "       \n",
    "\n",
    "\n",
    "             \n",
    "        \n",
    "    \n",
    "class Pendencia(Janela):\n",
    "    def __init__(self,id,driver):        \n",
    "        Janela.__init__(self,id,driver)\n",
    "        self.frames={\"esquerda\":['//*[@id=\"frmPendencyScreen\"]','//*[@id=\"isoleft\"]','//*[@id=\"IFRAMETREE\"]'],\\\n",
    "        \"esquerda_pesquisa\":['//*[@id=\"frmPendencyScreen\"]','//*[@id=\"isoleft\"]','//*[@id=\"IFRAME\"]'],\\\n",
    "       \"direita\":['//*[@id=\"frmPendencyScreen\"]','/html/body/table/tbody/tr[2]/td/div/table/tbody/tr[2]/td/div/div/div[2]/iframe'],\\\n",
    "       'topo':[]}\n",
    "    def acessar_menu(self,*menu):\n",
    "        self.iframe_default()\n",
    "        self.click_xpath('//*[@id=\"imgPendent\"]')\n",
    "        #\n",
    "\n",
    "        menus=[{},{},{}]  \n",
    "        menus[0]['manutencao']='//*[@id=\"ext-gen140\"]/div/li[4]/div/a[1]/span'\n",
    "        menus[0]['nenhum']='nenhum'\n",
    "        menus[1]['navegar']='//*[@id=\"tdPages\"]/div/div[1]/h2[1]'\n",
    "        menus[1]['pesquisar']='//*[@id=\"tdPages\"]/div/div[1]/h2[3]'\n",
    "        menus[1]['nenhum']='nenhum'\n",
    "        menus[2]['vencimento_plano']='//*[@id=\"bcTreeContainer\"]/div/div/div[4]/table/tbody/tr/td[3]'         \n",
    "        cont=0\n",
    "\n",
    "        for m in menu:           \n",
    "            if cont==0:\n",
    "                if menus[cont][m] != 'nenhum':\n",
    "                    self.iframe_default()\n",
    "                    self.click_xpath(menus[cont][m])\n",
    "            elif cont==1:   \n",
    "                self.acesso_frames('esquerda',0,2)\n",
    "                if menus[cont][m] != 'nenhum':\n",
    "                    if self.css_atributo_contains(menus[cont][m],'class','tab'):\n",
    "\n",
    "                        self.click_xpath(menus[cont][m])\n",
    "            else:\n",
    "                self.acesso_frames('esquerda')\n",
    "                if self.exist_by_xpath(menus[cont][m]):\n",
    "                    self.click_xpath(menus[cont][m])\n",
    "            cont+=1\n",
    "    \n",
    "       \n",
    "    def organiza_busca(self):\n",
    "        self.acesso_frames('direita')\n",
    "        id='//*[@id=\"t_content_grobject\"]/thead/tr[2]/th[4]/nobr/a'\n",
    "        \n",
    "        if self.exist_by_xpath(id):\n",
    "            self.click_xpath('//*[@id=\"t_content_grobject\"]/thead/tr[2]/th[4]/nobr/a')\n",
    "    def busca_vencimento_plano(self,busca):\n",
    "        #Navegar\n",
    "        self.acessar_menu('manutencao','navegar','vencimento_plano')\n",
    "        self.acessar_menu('nenhum','pesquisar')\n",
    "        self.acesso_frames('esquerda_pesquisa')\n",
    "        \n",
    "        \n",
    "        \n",
    "        self.write_xpath('//*[@id=\"idasset\"]',busca,True)\n",
    "        '''\n",
    "        self.acesso_frames('esquerda')\n",
    "        self.click_xpath('//*[@id=\"tdPages\"]/div/div[1]/h2[1]')\n",
    "        self.acesso_frames('esquerda_tab')\n",
    "        \n",
    "        self.click_xpath('//*[@id=\"bcTreeContainer\"]/div/div/div[4]/table/tbody/tr/td[3]')\n",
    "        \n",
    "        #Aba Pesquisar\n",
    "        iframe_esquerda_pendencia()\n",
    "        navegador.find_element_by_xpath('//*[@id=\"tdPages\"]/div/div[1]/h2[3]').click()\n",
    "        iframe=navegador.find_element_by_xpath('//*[@id=\"IFRAME\"]')\n",
    "        navegador.switch_to.frame(iframe)\n",
    "        #Pesquisar\n",
    "\n",
    "        elem=navegador.find_element_by_xpath('//*[@id=\"idasset\"]')\n",
    "        elem.clear()\n",
    "        elem.send_keys(busca)\n",
    "        elem.send_keys(Keys.RETURN)\n",
    "        \n",
    "       \n",
    "        '''\n",
    "class ConsultaAtividade(Menu):\n",
    "    def __init__(self,id,driver):\n",
    "        Menu.__init__(self,id,driver)\n",
    "    def organiza_busca(self):\n",
    "        self.acesso_frames('direita')\n",
    "        id='//*[@id=\"t_content_grobject\"]/thead/tr[2]/th[1]/nobr/a'\n",
    "        start=tm.time()\n",
    "        while True:\n",
    "            id='/html/body/div[1]/div/div[2]/div[1]/div/div/table/tbody/tr[1]/td/div/table/tbody/tr[1]/td[5]/nobr'\n",
    "            end=tm.time()\n",
    "            if self.exist_by_xpath(id):\n",
    "                self.click_xpath('//*[@id=\"t_content_grobject\"]/thead/tr[2]/th[1]/nobr/a')\n",
    "                break\n",
    "            if end-start>25:\n",
    "                break\n",
    "        \n",
    "        \n",
    "        max=self.get_text('//*[@id=\"tdFooter\"]/table[3]/tbody/tr/td[2]')\n",
    "        m=''\n",
    "        for i in max:\n",
    "            if i.isdecimal():\n",
    "                m+=i\n",
    "        max=int(m)\n",
    "        sel=int(self.get_css_atributo('//*[@id=\"grobject-nrregpage\"]','value'))\n",
    "        #print('max ',max)\n",
    "        #print('sel ',sel)\n",
    "        if max>sel:\n",
    "            self.click_xpath('//*[@id=\"grobject-nrregpage\"]')\n",
    "            self.click_xpath('//*[@id=\"grobject-nrregpage\"]/option[10]')\n",
    "            \n",
    "    def coluna_position(self):\n",
    "        colunasD={}\n",
    "        \n",
    "        self.acesso_frames('direita')\n",
    "        titulo=f'//*[@id=\"t_content_grobject\"]/thead'\n",
    "        titulo1=f'//*[@id=\"t_content_grobject\"]/thead/tr[1]/th'\n",
    "        titulo2=f'//*[@id=\"t_content_grobject\"]/thead/tr[2]/th'\n",
    "        \n",
    "        colN=['Ativo','Atividade','TA','F']\n",
    "        \n",
    "        for t1 in range(1,self.tabela_tamanho(titulo1)+1):\n",
    "            \n",
    "            if not self.get_text(titulo1+f'[{t1}]') in colN:\n",
    "                    \n",
    "                \n",
    "                n=self.get_text(titulo1+f'[{t1}]')\n",
    "                #print(t1,'-',n)\n",
    "                colunasD[n]=t1\n",
    "              \n",
    "        \n",
    "        for t in range(1,self.tabela_tamanho(titulo2)+1):\n",
    "            \n",
    "           \n",
    "            n=self.get_text(titulo2+f'[{t}]')\n",
    "            \n",
    "            if n== 'Identificador': \n",
    "                if self.get_text(f'//*[@id=\"t_content_grobject\"]/tbody/tr[1]/td[{t+4}]/nobr')[2]=='-':\n",
    "                    n='Atividade-'+n\n",
    "                else:\n",
    "                    n='Ativo-'+n\n",
    "                   \n",
    "            #print(t+4,'-',n)\n",
    "            colunasD[n]=t+4 \n",
    "            \n",
    "        print(colunasD.values())\n",
    "        print(colunasD.keys())\n",
    "        \n",
    "        return colunasD    \n",
    "    \n",
    "        \n",
    "        \n",
    "\n",
    "    def consulta_os_centroDeServiçoEncerradas(self,empresa,datai='',dataf=''):\n",
    "       # self.trocar_janela(self.id)\n",
    "        #self.acesso_frames('esquerda')\n",
    "       # if not self.exist_by_xpath('//*[@id=\"idservicecenteractual\"]'):\n",
    "        self.trocar_janela(self.id)\n",
    "        self.acessar_menu('manutencao','consulta','atividade')     \n",
    "        self.acesso_frames('esquerda',0,2)\n",
    "        self.click_xpath('//*[@id=\"content_list\"]/div/div[1]/h2[2]')\n",
    "        self.acesso_frames('esquerda')\n",
    "        \n",
    "        \n",
    "        while True:#Espande atividade\n",
    "            \n",
    "            if self.exist_by_xpath('//*[@id=\"measure3\"]'):\n",
    "                if self.css_atributo_contains('//*[@id=\"measure3\"]','style','none;'):\n",
    "                    self.click_xpath('//*[@id=\"image_pan3\"]')\n",
    "                break\n",
    "            \n",
    "        if len(datai)>0: \n",
    "            self.write_xpath('//*[@id=\"dtactualstart\"]',datai)\n",
    "        if len(dataf)>0:\n",
    "            self.write_xpath('//*[@id=\"dtactualend\"]',dataf) \n",
    "            \n",
    "        #Situação\n",
    "        self.click_xpath('//*[@id=\"zoom_cbopcaostatusactivity\"]/img')\n",
    "        #tm.sleep(0.6)\n",
    "        self.click_xpath('//*[@id=\"fgactstatus_check5\"]')#encerrado\n",
    "        self.click_xpath('//*[@id=\"fgactstatus_check4\"]')#pendente aprovação\n",
    "        tm.sleep(1)\n",
    "        \n",
    "        #Situação\n",
    "        while True:\n",
    "            if not self.css_atributo_contains('//*[@id=\"fgactstatus_check\"]','style','none;'):             \n",
    "                self.click_xpath('//*[@id=\"zoom_cbopcaostatusactivity\"]/img')\n",
    "                break\n",
    "        \n",
    "        #Centro de serviço real\n",
    "        #tm.sleep(1)     \n",
    "        if len(empresa)>0:            \n",
    "            self.write_xpath('//*[@id=\"idservicecenteractual\"]',empresa)\n",
    "            while True:\n",
    "                if self.exist_by_xpath('/html/body/div[2]/ul/li/span'):\n",
    "                    #/html/body/div[2]/ul/li/span\n",
    "                    #//*[@id=\"bcDivSuggestionsidservicecenteractual\"]/ul/li/span\n",
    "                    if len(self.get_text('/html/body/div[2]/ul/li/span'))>0:\n",
    "                        print(self.get_text('/html/body/div[2]/ul/li/span'))\n",
    "                        #tm.sleep(1)\n",
    "                        self.click_xpath('/html/body/div[2]/ul/li/span')                                       \n",
    "                        break\n",
    "        #tm.sleep(0.5)\n",
    "        self.click_xpath('//*[@id=\"idservicecenteractual\"]')\n",
    "        self.enter('//*[@id=\"idservicecenteractual\"]')\n",
    "        \n",
    "        self.organiza_busca()\n",
    "        \n",
    "    def get_centroDeServico(self,datai,dataf):\n",
    "        \n",
    "        empresas=[]\n",
    "        self.acesso_frames('direita')\n",
    "        self.consulta_os_centroDeServiçoEncerradas('',datai,dataf)\n",
    "        #colunas=self.coluna_position()\n",
    "        #Sintético        \n",
    "        \n",
    "        self.click_xpath('//*[@id=\"content\"]/div/div[1]/h2[2]')\n",
    "            \n",
    "        #Pesquisar        \n",
    "        self.acesso_frames('direita_sintetico',0,3)\n",
    "        self.click_xpath('//*[@id=\"fgsearch\"]')\n",
    "        tm.sleep(.2)        \n",
    "        self.click_xpath('//*[@id=\"fgsearch\"]/option[11]')\n",
    "        tm.sleep(.2)\n",
    "        self.click_xpath('//*[@id=\"btn_search\"]/img')\n",
    "        self.acesso_frames('direita_sintetico')\n",
    "        #Obter Centros de serviço\n",
    "        for em in range(1,self.tabela_tamanho('//*[@id=\"t_content_gdsynthetic\"]/tbody/tr')+1):\n",
    "            e=self.get_text(f'//*[@id=\"t_content_gdsynthetic\"]/tbody/tr[{em}]/td[1]/nobr')\n",
    "            empresas.append(e)\n",
    "        return empresas\n",
    "    def get_centroDeServicoQuan(self,datai,dataf):\n",
    "        \n",
    "        empresas=[]\n",
    "        self.acesso_frames('direita')\n",
    "        self.consulta_os_centroDeServiçoEncerradas('',datai,dataf)\n",
    "        #colunas=self.coluna_position()\n",
    "        #Sintético        \n",
    "        \n",
    "        self.click_xpath('//*[@id=\"content\"]/div/div[1]/h2[2]')\n",
    "            \n",
    "        #Pesquisar        \n",
    "        self.acesso_frames('direita_sintetico',0,3)\n",
    "        self.click_xpath('//*[@id=\"fgsearch\"]')\n",
    "        tm.sleep(.2)        \n",
    "        self.click_xpath('//*[@id=\"fgsearch\"]/option[11]')\n",
    "        tm.sleep(.2)\n",
    "        self.click_xpath('//*[@id=\"btn_search\"]/img')\n",
    "        self.acesso_frames('direita_sintetico')\n",
    "        #Obter Centros de serviço\n",
    "        for em in range(1,self.tabela_tamanho('//*[@id=\"t_content_gdsynthetic\"]/tbody/tr')+1):\n",
    "            e=self.get_text(f'//*[@id=\"t_content_gdsynthetic\"]/tbody/tr[{em}]/td[1]/nobr')\n",
    "            q=int(self.get_text(f'//*[@id=\"t_content_gdsynthetic\"]/tbody/tr[{em}]/td[2]'))\n",
    "            empresas.append([e,q])\n",
    "        return empresas\n",
    "        \n",
    "        \n",
    "    def relatorio_atividade(self,datai,dataf):\n",
    "        self.trocar_janela(self.id)\n",
    "        self.acesso_frames('direita')\n",
    "        columinId={}\n",
    "        coluna_Atividade=0\n",
    "        data=[]\n",
    "        #empresas=['Engetronic Equipamentos']\n",
    "        empresas=self.get_centroDeServico(datai,dataf)\n",
    "        #self.consulta_os_centroDeServiçoEncerradas(i,datai,dataf)\n",
    "        self.acesso_frames('direita')\n",
    "        self.click_xpath('//*[@id=\"content\"]/div/div[1]/h2[1]')\n",
    "        tm.sleep(.1)\n",
    "        max=self.get_text('//*[@id=\"tdFooter\"]/table[3]/tbody/tr/td[2]')\n",
    "        m=''\n",
    "        for i in max:\n",
    "            if i.isdecimal():\n",
    "                m+=i\n",
    "        max=int(m)\n",
    "    \n",
    "        start=tm.time()\n",
    "        ordem=0\n",
    "        tM=0\n",
    "        tS=0\n",
    "        for e in empresas:  #engetronic[3:4]\n",
    "            self.consulta_os_centroDeServiçoEncerradas(e,datai,dataf)\n",
    "            if len(columinId)==0:\n",
    "                columinId=self.coluna_position()\n",
    "                coluna_Atividade=columinId['Atividade-Identificador']\n",
    "            tOs=tm.time()\n",
    "            for o in range(1,self.tabela_tamanho('//*[@id=\"t_content_grobject\"]/tbody/tr')+1):\n",
    "                self.trocar_janela(self.id)\n",
    "                self.acesso_frames('direita')\n",
    "\n",
    "                linha=[]\n",
    "                tipo=''\n",
    "                tipo=str(self.get_text(f'//*[@id=\"t_content_grobject\"]/tbody/tr[{o}]/td[5]/nobr'))[:2]\n",
    "                atributo=self.get_css_atributo(f'//*[@id=\"t_content_grobject\"]/tbody/tr[{o}]/td[2]/nobr/img','title')\n",
    "                if True:#'Aprovação do Relatório' in atributo and tipo=='OS':\n",
    "                    for c in columinId.values():\n",
    "                        if coluna_Atividade==c:\n",
    "                            tipo=str(self.get_text(f'//*[@id=\"t_content_grobject\"]/tbody/tr[{o}]/td[{c}]/nobr'))[:2]\n",
    "                        cData=self.get_text(f'//*[@id=\"t_content_grobject\"]/tbody/tr[{o}]/td[{c}]/nobr')\n",
    "                        if len(cData)>0:#Se texto\n",
    "                            linha.append(cData)\n",
    "                            #print(cData)\n",
    "                        else:#Se imagem, pegue title\n",
    "                            atributo=self.get_css_atributo(f'//*[@id=\"t_content_grobject\"]/tbody/tr[{o}]/td[{c}]/nobr/img','title')\n",
    "                            linha.append(atributo)\n",
    "                    self.click_xpath(f'//*[@id=\"t_content_grobject\"]/tbody/tr[{o}]/td[5]/nobr')\n",
    "                    self.enter()\n",
    "                    if tipo =='OS':\n",
    "                        linha+=self.getOs_dados()\n",
    "                    elif tipo =='MP':\n",
    "                        pass\n",
    "                        linha+=self.getMp_dados()\n",
    "                    data.append(linha)\n",
    "                    ordem+=1\n",
    "                    tTotal=(tm.time()-start)\n",
    "                    tS+=(tm.time()-tOs)\n",
    "                    tM=tS/ordem\n",
    "                \n",
    "                    print('Tempo Médio por OS:',tM,'/ Tempo decorrido: ',tTotal)\n",
    "        col=list(columinId.keys())\n",
    "        col+=['Centro de Serviço','Solicitação','Area','Diretoria']  \n",
    "        \n",
    "        print(data)    \n",
    "        return  pd.DataFrame(data,columns=col)    \n",
    "        \n",
    "        \n",
    "    def getOs_dados(self):\n",
    "        linha=[]\n",
    "        #Os/Ativo\n",
    "        self.trocar_janela(self.getId_Ultima_Janela())\n",
    "       \n",
    "        while True:\n",
    "            if self.exist_by_xpath('//*[@id=\"nmmaintcenterexec\"]'):\n",
    "                break\n",
    "        linha.append(self.get_css_atributo('//*[@id=\"nmmaintcenterexec\"]','value'))#Centro de serviço\n",
    "        #print(self.get_css_atributo('//*[@id=\"nmmaintcenterexec\"]','value'))       \n",
    "        self.click_xpath('//*[@id=\"content_list\"]/div/div[1]/h2[4]')  #detalhes        \n",
    "        self.acesso_frame('//*[@id=\"frexttreeCadTree1\"]')#frame detalhes        \n",
    "        self.click_xpath(\"//a/span[contains(text(), 'Solicitação')]\")\n",
    "        self.iframe_default()\n",
    "        tm.sleep(.2)\n",
    "        \n",
    "        self.acesso_frame(f'/html/body/table[2]/tbody/tr[2]/td/div/div/form/div/div[1]/div/div[2]/div[4]/div/div/table/tbody/tr/td[3]/div/iframe[3]')\n",
    "      \n",
    "        while True:\n",
    "            if len(self.get_text('//*[@id=\"t_content_gridRequest\"]/tbody/tr/td[4]/nobr'))>0:\n",
    "                break\n",
    "        self.click_xpath('//*[@id=\"t_content_gridRequest\"]/tbody/tr/td[4]/nobr')#Num Solicitacao   \n",
    "        linha.append(self.get_text('//*[@id=\"t_content_gridRequest\"]/tbody/tr/td[4]/nobr'))#Num solicitacao\n",
    "        #tm.sleep(4)\n",
    "        self.click_xpath('//*[@id=\"buttons\"]/button[1]/img')#Botão de buscar\n",
    "        #tm.sleep(4)        \n",
    "       \n",
    "        self.close()       \n",
    "        while True:\n",
    "            try:\n",
    "                if  not self.exist_by_xpath('//*[@id=\"buttons\"]/button[1]/img'):\n",
    "                    pass\n",
    "            except NoSuchWindowException:\n",
    "                break\n",
    "        tm.sleep(1)\n",
    "        self.trocar_janela(self.getId_Ultima_Janela())\n",
    "        \n",
    "        \n",
    "        while True:\n",
    "            \n",
    "            if self.exist_by_xpath('//*[@id=\"label_department\"]/span'):#Title Area\n",
    "                break  \n",
    "                \n",
    "        linha.append(self.get_css_atributo('//*[@id=\"department\"]','value'))#Area\n",
    "        #print(self.get_css_atributo('//*[@id=\"department\"]','value'))\n",
    "        \n",
    "        x=str(self.get_css_atributo('//*[@id=\"span_6\"]/span',\"innerHTML\"))  #Area Dietoria    \n",
    "        x=x.replace('<script language=\"javascript\">','')\n",
    "        x=x.replace(\"loadRowGrid(6, '../../', 'non-image');\",'')\n",
    "        x=x.replace(\"</script>\",'')\n",
    "        x=x.replace(\"&nbsp;\",'')\n",
    "        x=x.strip()\n",
    "        linha.append(x)\n",
    "        #print(x)\n",
    "        \n",
    "      \n",
    "        self.close()\n",
    "        while True:\n",
    "            try:\n",
    "                self.close()\n",
    "                \n",
    "            except NoSuchWindowException:\n",
    "                break\n",
    "        return linha\n",
    "        \n",
    "            \n",
    "                           \n",
    "    def getMp_dados(self):\n",
    "        linha=[]\n",
    "        \n",
    "        #Os/Ativo\n",
    "        self.trocar_janela(self.getId_Ultima_Janela())\n",
    "        \n",
    "        while True:\n",
    "            if self.exist_by_xpath('//*[@id=\"nmmaintcenterexec\"]'):\n",
    "                break\n",
    "        linha.append(self.get_css_atributo('//*[@id=\"nmmaintcenterexec\"]','value'))#Centro de serviço\n",
    "        linha.append('Preventiva')\n",
    "        #print(self.get_css_atributo('//*[@id=\"nmmaintcenterexec\"]','value'))\n",
    "        self.click_xpath('//*[@id=\"content_list\"]/div/div[1]/h2[2]')  #ativo\n",
    "        self.acesso_frame('//*[@id=\"content_list\"]/div/div[2]/div[2]/iframe')#frame ativo\n",
    "        #tm.sleep(4)\n",
    "        while True:\n",
    "            if len(self.get_text('//*[@id=\"t_content_agrid\"]/tbody/tr/td[4]/nobr'))>0:\n",
    "                break\n",
    "        self.click_xpath('//*[@id=\"t_content_agrid\"]/tbody/tr/td[4]')#id ativo\n",
    "        #tm.sleep(4)\n",
    "        self.click_xpath('//*[@id=\"tdbtn\"]/button[1]/img')\n",
    "        #tm.sleep(4)\n",
    "        \n",
    "        \n",
    "        self.close()\n",
    "        self\n",
    "        while True:\n",
    "            try:\n",
    "                if  not self.exist_by_xpath('//*[@id=\"t_content_agrid\"]/tbody/tr/td[4]'):\n",
    "                    pass\n",
    "            except NoSuchWindowException:\n",
    "                break\n",
    "        tm.sleep(1)\n",
    "        self.trocar_janela(self.getId_Ultima_Janela())\n",
    "        while True:\n",
    "            \n",
    "            if self.exist_by_xpath('//*[@id=\"content_list\"]/div/div[1]/h2[5]'):\n",
    "                break          \n",
    "        \n",
    "       \n",
    "        #Ativo/Detalhes/localização        \n",
    "        self.click_xpath('//*[@id=\"content_list\"]/div/div[1]/h2[5]')#detalhes\n",
    "        self.iframe_default()\n",
    "        self.acesso_frame('//*[@id=\"frexttreeCadTree1\"]')\n",
    "        while True:\n",
    "            if self.exist_by_xpath('/html/body/div/div/div/ul/li/ul/li[3]/div/a/span'):\n",
    "                break \n",
    "        \n",
    "        self.click_xpath('/html/body/div/div/div/ul/li/ul/li[3]/div/a/span')#Localização\n",
    "        self.iframe_default()\n",
    "        while True:\n",
    "            if self.exist_by_xpath('//*[@id=\"nodeContent_CadTree1_11\"]'):\n",
    "                break \n",
    "        self.acesso_frame('//*[@id=\"nodeContent_CadTree1_11\"]')\n",
    "        local=self.get_text('//*[@id=\"t_content_gridsite\"]/tbody/tr/td[1]/nobr')+' '\n",
    "        local+=self.get_text('//*[@id=\"t_content_gridsite\"]/tbody/tr/td[2]/nobr')\n",
    "        #print(local)\n",
    "        linha.append(local)\n",
    "        tm.sleep(1)\n",
    "        \n",
    "        self.close()\n",
    "        while True:\n",
    "            try:\n",
    "                self.close()\n",
    "                \n",
    "            except NoSuchWindowException:\n",
    "                break\n",
    "        linha.append('')\n",
    "        return linha\n",
    "            \n",
    "      "
   ]
  },
  {
   "cell_type": "code",
   "execution_count": 2,
   "id": "a0906a77",
   "metadata": {},
   "outputs": [
    {
     "name": "stderr",
     "output_type": "stream",
     "text": [
      "C:\\Users\\lejog\\AppData\\Local\\Temp/ipykernel_11992/2857280502.py:30: DeprecationWarning: executable_path has been deprecated, please pass in a Service object\n",
      "  self.driver=webdriver.Chrome(executable_path=s)#\n"
     ]
    }
   ],
   "source": [
    "driver=Driver()\n",
    "driver.logar()\n",
    "nav=driver.get_driver()\n",
    "janela_principal=nav.window_handles[0]\n",
    "menu=ProgramacaoAtividade(janela_principal,nav)\n"
   ]
  },
  {
   "cell_type": "code",
   "execution_count": null,
   "id": "adeb6a5b",
   "metadata": {},
   "outputs": [],
   "source": []
  },
  {
   "cell_type": "code",
   "execution_count": null,
   "id": "3865f0be",
   "metadata": {},
   "outputs": [],
   "source": [
    "\n",
    "\n"
   ]
  },
  {
   "cell_type": "code",
   "execution_count": null,
   "id": "6465fd80",
   "metadata": {
    "collapsed": true
   },
   "outputs": [],
   "source": []
  },
  {
   "cell_type": "code",
   "execution_count": 150,
   "id": "fa0b44f9",
   "metadata": {},
   "outputs": [
    {
     "data": {
      "text/html": [
       "<div>\n",
       "<style scoped>\n",
       "    .dataframe tbody tr th:only-of-type {\n",
       "        vertical-align: middle;\n",
       "    }\n",
       "\n",
       "    .dataframe tbody tr th {\n",
       "        vertical-align: top;\n",
       "    }\n",
       "\n",
       "    .dataframe thead th {\n",
       "        text-align: right;\n",
       "    }\n",
       "</style>\n",
       "<table border=\"1\" class=\"dataframe\">\n",
       "  <thead>\n",
       "    <tr style=\"text-align: right;\">\n",
       "      <th></th>\n",
       "      <th>SA</th>\n",
       "      <th>P</th>\n",
       "      <th>Atividade-Identificador</th>\n",
       "      <th>Ativo-Identificador</th>\n",
       "      <th>Nome</th>\n",
       "      <th>Data início planejada</th>\n",
       "      <th>Data fim planejada</th>\n",
       "      <th>Data início realizada</th>\n",
       "      <th>Data fim realizada</th>\n",
       "      <th>Centro de Serviço</th>\n",
       "      <th>Solicitação</th>\n",
       "      <th>Area</th>\n",
       "      <th>Diretoria</th>\n",
       "    </tr>\n",
       "  </thead>\n",
       "  <tbody>\n",
       "    <tr>\n",
       "      <th>0</th>\n",
       "      <td>Aprovação do Relatório</td>\n",
       "      <td>Atrasado</td>\n",
       "      <td>OS-MNT-019283</td>\n",
       "      <td>CAOSM-01D</td>\n",
       "      <td>Cadeira Odontológica Kavo Unik Konfort</td>\n",
       "      <td>27/10/2021</td>\n",
       "      <td>29/10/2021</td>\n",
       "      <td>27/10/2021</td>\n",
       "      <td>18/11/2021</td>\n",
       "      <td>Engetronic Equipamentos - Engetronic Equipamen...</td>\n",
       "      <td>MNT-SMC-004858</td>\n",
       "      <td>SSST - Serviço de Segurança e Saude do Trabalh...</td>\n",
       "      <td>DPGF - Serviço de Segurança e Saúde do Trabalh...</td>\n",
       "    </tr>\n",
       "  </tbody>\n",
       "</table>\n",
       "</div>"
      ],
      "text/plain": [
       "                       SA         P Atividade-Identificador  \\\n",
       "0  Aprovação do Relatório  Atrasado           OS-MNT-019283   \n",
       "\n",
       "  Ativo-Identificador                                    Nome  \\\n",
       "0           CAOSM-01D  Cadeira Odontológica Kavo Unik Konfort   \n",
       "\n",
       "  Data início planejada Data fim planejada Data início realizada  \\\n",
       "0            27/10/2021         29/10/2021            27/10/2021   \n",
       "\n",
       "  Data fim realizada                                  Centro de Serviço  \\\n",
       "0         18/11/2021  Engetronic Equipamentos - Engetronic Equipamen...   \n",
       "\n",
       "      Solicitação                                               Area  \\\n",
       "0  MNT-SMC-004858  SSST - Serviço de Segurança e Saude do Trabalh...   \n",
       "\n",
       "                                           Diretoria  \n",
       "0  DPGF - Serviço de Segurança e Saúde do Trabalh...  "
      ]
     },
     "execution_count": 150,
     "metadata": {},
     "output_type": "execute_result"
    }
   ],
   "source": [
    "data"
   ]
  },
  {
   "cell_type": "code",
   "execution_count": 3,
   "id": "1f209852",
   "metadata": {
    "scrolled": true
   },
   "outputs": [
    {
     "ename": "NoSuchElementException",
     "evalue": "Message: no such element: Unable to locate element: {\"method\":\"xpath\",\"selector\":\"//*[@id=\"isoright\"]\"}\n  (Session info: chrome=100.0.4896.75)\nStacktrace:\nBacktrace:\n\tOrdinal0 [0x002D9943+2595139]\n\tOrdinal0 [0x0026C9F1+2148849]\n\tOrdinal0 [0x00164528+1066280]\n\tOrdinal0 [0x00190FD4+1249236]\n\tOrdinal0 [0x001911CB+1249739]\n\tOrdinal0 [0x001BD812+1431570]\n\tOrdinal0 [0x001ABA34+1358388]\n\tOrdinal0 [0x001BBAF2+1424114]\n\tOrdinal0 [0x001AB806+1357830]\n\tOrdinal0 [0x00186086+1204358]\n\tOrdinal0 [0x00186F96+1208214]\n\tGetHandleVerifier [0x0047B232+1658114]\n\tGetHandleVerifier [0x0053312C+2411516]\n\tGetHandleVerifier [0x0036F261+560433]\n\tGetHandleVerifier [0x0036E366+556598]\n\tOrdinal0 [0x0027286B+2173035]\n\tOrdinal0 [0x002775F8+2192888]\n\tOrdinal0 [0x002776E5+2193125]\n\tOrdinal0 [0x002811FC+2232828]\n\tBaseThreadInitThunk [0x7713FA29+25]\n\tRtlGetAppContainerNamedObjectPath [0x77287A7E+286]\n\tRtlGetAppContainerNamedObjectPath [0x77287A4E+238]\n\t(No symbol) [0x00000000]\n",
     "output_type": "error",
     "traceback": [
      "\u001b[1;31m---------------------------------------------------------------------------\u001b[0m",
      "\u001b[1;31mNoSuchElementException\u001b[0m                    Traceback (most recent call last)",
      "\u001b[1;32m~\\AppData\\Local\\Temp/ipykernel_11992/1496367726.py\u001b[0m in \u001b[0;36m<module>\u001b[1;34m\u001b[0m\n\u001b[0;32m      1\u001b[0m \u001b[0mrel\u001b[0m\u001b[1;33m=\u001b[0m\u001b[0mConsultaAtividade\u001b[0m\u001b[1;33m(\u001b[0m\u001b[0mjanela_principal\u001b[0m\u001b[1;33m,\u001b[0m\u001b[0mnav\u001b[0m\u001b[1;33m)\u001b[0m\u001b[1;33m\u001b[0m\u001b[1;33m\u001b[0m\u001b[0m\n\u001b[0;32m      2\u001b[0m \u001b[1;31m#data=rel.relatorio_atividade('01/10/2021','31/10/2021')\u001b[0m\u001b[1;33m\u001b[0m\u001b[1;33m\u001b[0m\u001b[1;33m\u001b[0m\u001b[0m\n\u001b[1;32m----> 3\u001b[1;33m \u001b[0mx\u001b[0m\u001b[1;33m=\u001b[0m\u001b[0mrel\u001b[0m\u001b[1;33m.\u001b[0m\u001b[0mget_centroDeServicoQuan\u001b[0m\u001b[1;33m(\u001b[0m\u001b[1;34m'01/10/2021'\u001b[0m\u001b[1;33m,\u001b[0m\u001b[1;34m'31/10/2021'\u001b[0m\u001b[1;33m)\u001b[0m\u001b[1;33m\u001b[0m\u001b[1;33m\u001b[0m\u001b[0m\n\u001b[0m\u001b[0;32m      4\u001b[0m \u001b[1;31m#y=[i[1]for i in x]\u001b[0m\u001b[1;33m\u001b[0m\u001b[1;33m\u001b[0m\u001b[1;33m\u001b[0m\u001b[0m\n",
      "\u001b[1;32m~\\AppData\\Local\\Temp/ipykernel_11992/2857280502.py\u001b[0m in \u001b[0;36mget_centroDeServicoQuan\u001b[1;34m(self, datai, dataf)\u001b[0m\n\u001b[0;32m    614\u001b[0m \u001b[1;33m\u001b[0m\u001b[0m\n\u001b[0;32m    615\u001b[0m         \u001b[0mempresas\u001b[0m\u001b[1;33m=\u001b[0m\u001b[1;33m[\u001b[0m\u001b[1;33m]\u001b[0m\u001b[1;33m\u001b[0m\u001b[1;33m\u001b[0m\u001b[0m\n\u001b[1;32m--> 616\u001b[1;33m         \u001b[0mself\u001b[0m\u001b[1;33m.\u001b[0m\u001b[0macesso_frames\u001b[0m\u001b[1;33m(\u001b[0m\u001b[1;34m'direita'\u001b[0m\u001b[1;33m)\u001b[0m\u001b[1;33m\u001b[0m\u001b[1;33m\u001b[0m\u001b[0m\n\u001b[0m\u001b[0;32m    617\u001b[0m         \u001b[0mself\u001b[0m\u001b[1;33m.\u001b[0m\u001b[0mconsulta_os_centroDeServiçoEncerradas\u001b[0m\u001b[1;33m(\u001b[0m\u001b[1;34m''\u001b[0m\u001b[1;33m,\u001b[0m\u001b[0mdatai\u001b[0m\u001b[1;33m,\u001b[0m\u001b[0mdataf\u001b[0m\u001b[1;33m)\u001b[0m\u001b[1;33m\u001b[0m\u001b[1;33m\u001b[0m\u001b[0m\n\u001b[0;32m    618\u001b[0m         \u001b[1;31m#colunas=self.coluna_position()\u001b[0m\u001b[1;33m\u001b[0m\u001b[1;33m\u001b[0m\u001b[1;33m\u001b[0m\u001b[0m\n",
      "\u001b[1;32m~\\AppData\\Local\\Temp/ipykernel_11992/2857280502.py\u001b[0m in \u001b[0;36macesso_frames\u001b[1;34m(self, frame, i, f)\u001b[0m\n\u001b[0;32m    198\u001b[0m     \u001b[1;32mdef\u001b[0m \u001b[0macesso_frames\u001b[0m\u001b[1;33m(\u001b[0m\u001b[0mself\u001b[0m\u001b[1;33m,\u001b[0m\u001b[0mframe\u001b[0m\u001b[1;33m,\u001b[0m\u001b[0mi\u001b[0m\u001b[1;33m=\u001b[0m\u001b[1;36m0\u001b[0m\u001b[1;33m,\u001b[0m\u001b[0mf\u001b[0m\u001b[1;33m=\u001b[0m\u001b[1;36m0\u001b[0m\u001b[1;33m)\u001b[0m\u001b[1;33m:\u001b[0m\u001b[1;33m\u001b[0m\u001b[1;33m\u001b[0m\u001b[0m\n\u001b[0;32m    199\u001b[0m         \u001b[0mfr\u001b[0m\u001b[1;33m=\u001b[0m\u001b[0mself\u001b[0m\u001b[1;33m.\u001b[0m\u001b[0mframes\u001b[0m\u001b[1;33m[\u001b[0m\u001b[0mframe\u001b[0m\u001b[1;33m]\u001b[0m\u001b[1;33m\u001b[0m\u001b[1;33m\u001b[0m\u001b[0m\n\u001b[1;32m--> 200\u001b[1;33m         \u001b[0msuper\u001b[0m\u001b[1;33m(\u001b[0m\u001b[1;33m)\u001b[0m\u001b[1;33m.\u001b[0m\u001b[0macesso_frames\u001b[0m\u001b[1;33m(\u001b[0m\u001b[0mfr\u001b[0m\u001b[1;33m,\u001b[0m\u001b[0mi\u001b[0m\u001b[1;33m,\u001b[0m\u001b[0mf\u001b[0m\u001b[1;33m)\u001b[0m\u001b[1;33m\u001b[0m\u001b[1;33m\u001b[0m\u001b[0m\n\u001b[0m\u001b[0;32m    201\u001b[0m \u001b[1;33m\u001b[0m\u001b[0m\n\u001b[0;32m    202\u001b[0m \u001b[1;33m\u001b[0m\u001b[0m\n",
      "\u001b[1;32m~\\AppData\\Local\\Temp/ipykernel_11992/2857280502.py\u001b[0m in \u001b[0;36macesso_frames\u001b[1;34m(self, frames, i, f)\u001b[0m\n\u001b[0;32m    128\u001b[0m             \u001b[1;31m#print(frames[fr])\u001b[0m\u001b[1;33m\u001b[0m\u001b[1;33m\u001b[0m\u001b[1;33m\u001b[0m\u001b[0m\n\u001b[0;32m    129\u001b[0m \u001b[1;33m\u001b[0m\u001b[0m\n\u001b[1;32m--> 130\u001b[1;33m             \u001b[0miframe\u001b[0m\u001b[1;33m=\u001b[0m\u001b[0mself\u001b[0m\u001b[1;33m.\u001b[0m\u001b[0mnav\u001b[0m\u001b[1;33m.\u001b[0m\u001b[0mfind_element\u001b[0m\u001b[1;33m(\u001b[0m\u001b[0mBy\u001b[0m\u001b[1;33m.\u001b[0m\u001b[0mXPATH\u001b[0m\u001b[1;33m,\u001b[0m\u001b[0mframes\u001b[0m\u001b[1;33m[\u001b[0m\u001b[0mfr\u001b[0m\u001b[1;33m]\u001b[0m\u001b[1;33m)\u001b[0m\u001b[1;33m\u001b[0m\u001b[1;33m\u001b[0m\u001b[0m\n\u001b[0m\u001b[0;32m    131\u001b[0m             \u001b[0mself\u001b[0m\u001b[1;33m.\u001b[0m\u001b[0mnav\u001b[0m\u001b[1;33m.\u001b[0m\u001b[0mswitch_to\u001b[0m\u001b[1;33m.\u001b[0m\u001b[0mframe\u001b[0m\u001b[1;33m(\u001b[0m\u001b[0miframe\u001b[0m\u001b[1;33m)\u001b[0m\u001b[1;33m\u001b[0m\u001b[1;33m\u001b[0m\u001b[0m\n\u001b[0;32m    132\u001b[0m     \u001b[1;32mdef\u001b[0m \u001b[0macesso_frame\u001b[0m\u001b[1;33m(\u001b[0m\u001b[0mself\u001b[0m\u001b[1;33m,\u001b[0m\u001b[0mframe\u001b[0m\u001b[1;33m)\u001b[0m\u001b[1;33m:\u001b[0m\u001b[1;33m\u001b[0m\u001b[1;33m\u001b[0m\u001b[0m\n",
      "\u001b[1;32mc:\\workspace\\venv\\coleta_dados\\lib\\site-packages\\selenium\\webdriver\\remote\\webdriver.py\u001b[0m in \u001b[0;36mfind_element\u001b[1;34m(self, by, value)\u001b[0m\n\u001b[0;32m   1246\u001b[0m             \u001b[0mvalue\u001b[0m \u001b[1;33m=\u001b[0m \u001b[1;34m'[name=\"%s\"]'\u001b[0m \u001b[1;33m%\u001b[0m \u001b[0mvalue\u001b[0m\u001b[1;33m\u001b[0m\u001b[1;33m\u001b[0m\u001b[0m\n\u001b[0;32m   1247\u001b[0m \u001b[1;33m\u001b[0m\u001b[0m\n\u001b[1;32m-> 1248\u001b[1;33m         return self.execute(Command.FIND_ELEMENT, {\n\u001b[0m\u001b[0;32m   1249\u001b[0m             \u001b[1;34m'using'\u001b[0m\u001b[1;33m:\u001b[0m \u001b[0mby\u001b[0m\u001b[1;33m,\u001b[0m\u001b[1;33m\u001b[0m\u001b[1;33m\u001b[0m\u001b[0m\n\u001b[0;32m   1250\u001b[0m             'value': value})['value']\n",
      "\u001b[1;32mc:\\workspace\\venv\\coleta_dados\\lib\\site-packages\\selenium\\webdriver\\remote\\webdriver.py\u001b[0m in \u001b[0;36mexecute\u001b[1;34m(self, driver_command, params)\u001b[0m\n\u001b[0;32m    423\u001b[0m         \u001b[0mresponse\u001b[0m \u001b[1;33m=\u001b[0m \u001b[0mself\u001b[0m\u001b[1;33m.\u001b[0m\u001b[0mcommand_executor\u001b[0m\u001b[1;33m.\u001b[0m\u001b[0mexecute\u001b[0m\u001b[1;33m(\u001b[0m\u001b[0mdriver_command\u001b[0m\u001b[1;33m,\u001b[0m \u001b[0mparams\u001b[0m\u001b[1;33m)\u001b[0m\u001b[1;33m\u001b[0m\u001b[1;33m\u001b[0m\u001b[0m\n\u001b[0;32m    424\u001b[0m         \u001b[1;32mif\u001b[0m \u001b[0mresponse\u001b[0m\u001b[1;33m:\u001b[0m\u001b[1;33m\u001b[0m\u001b[1;33m\u001b[0m\u001b[0m\n\u001b[1;32m--> 425\u001b[1;33m             \u001b[0mself\u001b[0m\u001b[1;33m.\u001b[0m\u001b[0merror_handler\u001b[0m\u001b[1;33m.\u001b[0m\u001b[0mcheck_response\u001b[0m\u001b[1;33m(\u001b[0m\u001b[0mresponse\u001b[0m\u001b[1;33m)\u001b[0m\u001b[1;33m\u001b[0m\u001b[1;33m\u001b[0m\u001b[0m\n\u001b[0m\u001b[0;32m    426\u001b[0m             response['value'] = self._unwrap_value(\n\u001b[0;32m    427\u001b[0m                 response.get('value', None))\n",
      "\u001b[1;32mc:\\workspace\\venv\\coleta_dados\\lib\\site-packages\\selenium\\webdriver\\remote\\errorhandler.py\u001b[0m in \u001b[0;36mcheck_response\u001b[1;34m(self, response)\u001b[0m\n\u001b[0;32m    245\u001b[0m                 \u001b[0malert_text\u001b[0m \u001b[1;33m=\u001b[0m \u001b[0mvalue\u001b[0m\u001b[1;33m[\u001b[0m\u001b[1;34m'alert'\u001b[0m\u001b[1;33m]\u001b[0m\u001b[1;33m.\u001b[0m\u001b[0mget\u001b[0m\u001b[1;33m(\u001b[0m\u001b[1;34m'text'\u001b[0m\u001b[1;33m)\u001b[0m\u001b[1;33m\u001b[0m\u001b[1;33m\u001b[0m\u001b[0m\n\u001b[0;32m    246\u001b[0m             \u001b[1;32mraise\u001b[0m \u001b[0mexception_class\u001b[0m\u001b[1;33m(\u001b[0m\u001b[0mmessage\u001b[0m\u001b[1;33m,\u001b[0m \u001b[0mscreen\u001b[0m\u001b[1;33m,\u001b[0m \u001b[0mstacktrace\u001b[0m\u001b[1;33m,\u001b[0m \u001b[0malert_text\u001b[0m\u001b[1;33m)\u001b[0m  \u001b[1;31m# type: ignore[call-arg]  # mypy is not smart enough here\u001b[0m\u001b[1;33m\u001b[0m\u001b[1;33m\u001b[0m\u001b[0m\n\u001b[1;32m--> 247\u001b[1;33m         \u001b[1;32mraise\u001b[0m \u001b[0mexception_class\u001b[0m\u001b[1;33m(\u001b[0m\u001b[0mmessage\u001b[0m\u001b[1;33m,\u001b[0m \u001b[0mscreen\u001b[0m\u001b[1;33m,\u001b[0m \u001b[0mstacktrace\u001b[0m\u001b[1;33m)\u001b[0m\u001b[1;33m\u001b[0m\u001b[1;33m\u001b[0m\u001b[0m\n\u001b[0m\u001b[0;32m    248\u001b[0m \u001b[1;33m\u001b[0m\u001b[0m\n\u001b[0;32m    249\u001b[0m     \u001b[1;32mdef\u001b[0m \u001b[0m_value_or_default\u001b[0m\u001b[1;33m(\u001b[0m\u001b[0mself\u001b[0m\u001b[1;33m,\u001b[0m \u001b[0mobj\u001b[0m\u001b[1;33m:\u001b[0m \u001b[0mMapping\u001b[0m\u001b[1;33m[\u001b[0m\u001b[0m_KT\u001b[0m\u001b[1;33m,\u001b[0m \u001b[0m_VT\u001b[0m\u001b[1;33m]\u001b[0m\u001b[1;33m,\u001b[0m \u001b[0mkey\u001b[0m\u001b[1;33m:\u001b[0m \u001b[0m_KT\u001b[0m\u001b[1;33m,\u001b[0m \u001b[0mdefault\u001b[0m\u001b[1;33m:\u001b[0m \u001b[0m_VT\u001b[0m\u001b[1;33m)\u001b[0m \u001b[1;33m->\u001b[0m \u001b[0m_VT\u001b[0m\u001b[1;33m:\u001b[0m\u001b[1;33m\u001b[0m\u001b[1;33m\u001b[0m\u001b[0m\n",
      "\u001b[1;31mNoSuchElementException\u001b[0m: Message: no such element: Unable to locate element: {\"method\":\"xpath\",\"selector\":\"//*[@id=\"isoright\"]\"}\n  (Session info: chrome=100.0.4896.75)\nStacktrace:\nBacktrace:\n\tOrdinal0 [0x002D9943+2595139]\n\tOrdinal0 [0x0026C9F1+2148849]\n\tOrdinal0 [0x00164528+1066280]\n\tOrdinal0 [0x00190FD4+1249236]\n\tOrdinal0 [0x001911CB+1249739]\n\tOrdinal0 [0x001BD812+1431570]\n\tOrdinal0 [0x001ABA34+1358388]\n\tOrdinal0 [0x001BBAF2+1424114]\n\tOrdinal0 [0x001AB806+1357830]\n\tOrdinal0 [0x00186086+1204358]\n\tOrdinal0 [0x00186F96+1208214]\n\tGetHandleVerifier [0x0047B232+1658114]\n\tGetHandleVerifier [0x0053312C+2411516]\n\tGetHandleVerifier [0x0036F261+560433]\n\tGetHandleVerifier [0x0036E366+556598]\n\tOrdinal0 [0x0027286B+2173035]\n\tOrdinal0 [0x002775F8+2192888]\n\tOrdinal0 [0x002776E5+2193125]\n\tOrdinal0 [0x002811FC+2232828]\n\tBaseThreadInitThunk [0x7713FA29+25]\n\tRtlGetAppContainerNamedObjectPath [0x77287A7E+286]\n\tRtlGetAppContainerNamedObjectPath [0x77287A4E+238]\n\t(No symbol) [0x00000000]\n"
     ]
    }
   ],
   "source": [
    "rel=ConsultaAtividade(janela_principal,nav)\n",
    "#data=rel.relatorio_atividade('01/10/2021','31/10/2021')\n",
    "x=rel.get_centroDeServicoQuan('01/10/2021','31/10/2021')\n",
    "#y=[i[1]for i in x]\n"
   ]
  },
  {
   "cell_type": "code",
   "execution_count": 166,
   "id": "f4fd9ae5",
   "metadata": {},
   "outputs": [
    {
     "data": {
      "text/html": [
       "<div>\n",
       "<style scoped>\n",
       "    .dataframe tbody tr th:only-of-type {\n",
       "        vertical-align: middle;\n",
       "    }\n",
       "\n",
       "    .dataframe tbody tr th {\n",
       "        vertical-align: top;\n",
       "    }\n",
       "\n",
       "    .dataframe thead th {\n",
       "        text-align: right;\n",
       "    }\n",
       "</style>\n",
       "<table border=\"1\" class=\"dataframe\">\n",
       "  <thead>\n",
       "    <tr style=\"text-align: right;\">\n",
       "      <th></th>\n",
       "      <th>Centro de Serviço</th>\n",
       "      <th>Total_OS</th>\n",
       "      <th>Executada</th>\n",
       "    </tr>\n",
       "  </thead>\n",
       "  <tbody>\n",
       "    <tr>\n",
       "      <th>0</th>\n",
       "      <td>Cetest Solutions on Service - Vapor</td>\n",
       "      <td>3</td>\n",
       "      <td>0</td>\n",
       "    </tr>\n",
       "    <tr>\n",
       "      <th>1</th>\n",
       "      <td>Engetronic - Refrigeração</td>\n",
       "      <td>3</td>\n",
       "      <td>0</td>\n",
       "    </tr>\n",
       "    <tr>\n",
       "      <th>2</th>\n",
       "      <td>Engetronic Comercial - Automação</td>\n",
       "      <td>3</td>\n",
       "      <td>0</td>\n",
       "    </tr>\n",
       "    <tr>\n",
       "      <th>3</th>\n",
       "      <td>Engetronic Equipamentos</td>\n",
       "      <td>3</td>\n",
       "      <td>0</td>\n",
       "    </tr>\n",
       "    <tr>\n",
       "      <th>4</th>\n",
       "      <td>Engetronic Serviços LTDA - Nobreak</td>\n",
       "      <td>3</td>\n",
       "      <td>0</td>\n",
       "    </tr>\n",
       "    <tr>\n",
       "      <th>5</th>\n",
       "      <td>Grupo CEI - Soluções em Engenharia Elétrica</td>\n",
       "      <td>3</td>\n",
       "      <td>0</td>\n",
       "    </tr>\n",
       "    <tr>\n",
       "      <th>6</th>\n",
       "      <td>MECQ</td>\n",
       "      <td>3</td>\n",
       "      <td>0</td>\n",
       "    </tr>\n",
       "    <tr>\n",
       "      <th>7</th>\n",
       "      <td>Merck S/A</td>\n",
       "      <td>3</td>\n",
       "      <td>0</td>\n",
       "    </tr>\n",
       "    <tr>\n",
       "      <th>8</th>\n",
       "      <td>Milênio Elevadores</td>\n",
       "      <td>3</td>\n",
       "      <td>0</td>\n",
       "    </tr>\n",
       "    <tr>\n",
       "      <th>9</th>\n",
       "      <td>NCH Brasil</td>\n",
       "      <td>3</td>\n",
       "      <td>0</td>\n",
       "    </tr>\n",
       "    <tr>\n",
       "      <th>10</th>\n",
       "      <td>Serviço de Manutenção e Calibração - Elétrica</td>\n",
       "      <td>3</td>\n",
       "      <td>0</td>\n",
       "    </tr>\n",
       "    <tr>\n",
       "      <th>11</th>\n",
       "      <td>Serviço de Manutenção e Calibração - SMC</td>\n",
       "      <td>3</td>\n",
       "      <td>0</td>\n",
       "    </tr>\n",
       "    <tr>\n",
       "      <th>12</th>\n",
       "      <td>Serviço de Utilidades</td>\n",
       "      <td>3</td>\n",
       "      <td>0</td>\n",
       "    </tr>\n",
       "    <tr>\n",
       "      <th>13</th>\n",
       "      <td>Trescal</td>\n",
       "      <td>3</td>\n",
       "      <td>0</td>\n",
       "    </tr>\n",
       "  </tbody>\n",
       "</table>\n",
       "</div>"
      ],
      "text/plain": [
       "                                Centro de Serviço  Total_OS  Executada\n",
       "0             Cetest Solutions on Service - Vapor         3          0\n",
       "1                       Engetronic - Refrigeração         3          0\n",
       "2                Engetronic Comercial - Automação         3          0\n",
       "3                         Engetronic Equipamentos         3          0\n",
       "4              Engetronic Serviços LTDA - Nobreak         3          0\n",
       "5     Grupo CEI - Soluções em Engenharia Elétrica         3          0\n",
       "6                                            MECQ         3          0\n",
       "7                                       Merck S/A         3          0\n",
       "8                              Milênio Elevadores         3          0\n",
       "9                                      NCH Brasil         3          0\n",
       "10  Serviço de Manutenção e Calibração - Elétrica         3          0\n",
       "11       Serviço de Manutenção e Calibração - SMC         3          0\n",
       "12                          Serviço de Utilidades         3          0\n",
       "13                                        Trescal         3          0"
      ]
     },
     "execution_count": 166,
     "metadata": {},
     "output_type": "execute_result"
    }
   ],
   "source": [
    "df=pd.DataFrame(x,columns=['Centro de Serviço','Total_OS'])\n",
    "df['Executada']=0\n",
    "\n",
    "df['Total_OS']=3\n",
    "df\n",
    "\n",
    "\n",
    "\n"
   ]
  },
  {
   "cell_type": "code",
   "execution_count": 144,
   "id": "be8d3e8f",
   "metadata": {},
   "outputs": [
    {
     "data": {
      "text/plain": [
       "0               Cetest Solutions on Service - Vapor\n",
       "1                         Engetronic - Refrigeração\n",
       "2                  Engetronic Comercial - Automação\n",
       "3                           Engetronic Equipamentos\n",
       "4                Engetronic Serviços LTDA - Nobreak\n",
       "5       Grupo CEI - Soluções em Engenharia Elétrica\n",
       "6                                              MECQ\n",
       "7                                         Merck S/A\n",
       "8                                Milênio Elevadores\n",
       "9                                        NCH Brasil\n",
       "10    Serviço de Manutenção e Calibração - Elétrica\n",
       "11         Serviço de Manutenção e Calibração - SMC\n",
       "12                            Serviço de Utilidades\n",
       "13                                          Trescal\n",
       "Name: Centro de Serviço, dtype: object"
      ]
     },
     "execution_count": 144,
     "metadata": {},
     "output_type": "execute_result"
    }
   ],
   "source": [
    "df[df['Total_OS']>df['Executada']]['Centro de Serviço']"
   ]
  },
  {
   "cell_type": "code",
   "execution_count": 142,
   "id": "497effae",
   "metadata": {},
   "outputs": [
    {
     "data": {
      "text/plain": [
       "14"
      ]
     },
     "execution_count": 142,
     "metadata": {},
     "output_type": "execute_result"
    }
   ],
   "source": [
    "len(df.query('Total_OS>Executada'))"
   ]
  },
  {
   "cell_type": "code",
   "execution_count": 167,
   "id": "be0f0c5e",
   "metadata": {},
   "outputs": [
    {
     "name": "stdout",
     "output_type": "stream",
     "text": [
      "Cetest Solutions on Service - Vapor\n"
     ]
    },
    {
     "name": "stderr",
     "output_type": "stream",
     "text": [
      "c:\\workspace\\venv\\coleta_dados\\lib\\site-packages\\pandas\\core\\indexing.py:1732: SettingWithCopyWarning: \n",
      "A value is trying to be set on a copy of a slice from a DataFrame\n",
      "\n",
      "See the caveats in the documentation: https://pandas.pydata.org/pandas-docs/stable/user_guide/indexing.html#returning-a-view-versus-a-copy\n",
      "  self._setitem_single_block(indexer, value, name)\n"
     ]
    },
    {
     "name": "stdout",
     "output_type": "stream",
     "text": [
      "1\n",
      "2\n",
      "3\n",
      "                                Centro de Serviço  Total_OS  Executada\n",
      "0             Cetest Solutions on Service - Vapor         3          3\n",
      "1                       Engetronic - Refrigeração         3          0\n",
      "2                Engetronic Comercial - Automação         3          0\n",
      "3                         Engetronic Equipamentos         3          0\n",
      "4              Engetronic Serviços LTDA - Nobreak         3          0\n",
      "5     Grupo CEI - Soluções em Engenharia Elétrica         3          0\n",
      "6                                            MECQ         3          0\n",
      "7                                       Merck S/A         3          0\n",
      "8                              Milênio Elevadores         3          0\n",
      "9                                      NCH Brasil         3          0\n",
      "10  Serviço de Manutenção e Calibração - Elétrica         3          0\n",
      "11       Serviço de Manutenção e Calibração - SMC         3          0\n",
      "12                          Serviço de Utilidades         3          0\n",
      "13                                        Trescal         3          0\n",
      "Engetronic - Refrigeração\n",
      "1\n"
     ]
    },
    {
     "name": "stderr",
     "output_type": "stream",
     "text": [
      "c:\\workspace\\venv\\coleta_dados\\lib\\site-packages\\pandas\\core\\indexing.py:1732: SettingWithCopyWarning: \n",
      "A value is trying to be set on a copy of a slice from a DataFrame\n",
      "\n",
      "See the caveats in the documentation: https://pandas.pydata.org/pandas-docs/stable/user_guide/indexing.html#returning-a-view-versus-a-copy\n",
      "  self._setitem_single_block(indexer, value, name)\n"
     ]
    },
    {
     "name": "stdout",
     "output_type": "stream",
     "text": [
      "2\n",
      "3\n",
      "                                Centro de Serviço  Total_OS  Executada\n",
      "1                       Engetronic - Refrigeração         3          3\n",
      "2                Engetronic Comercial - Automação         3          0\n",
      "3                         Engetronic Equipamentos         3          0\n",
      "4              Engetronic Serviços LTDA - Nobreak         3          0\n",
      "5     Grupo CEI - Soluções em Engenharia Elétrica         3          0\n",
      "6                                            MECQ         3          0\n",
      "7                                       Merck S/A         3          0\n",
      "8                              Milênio Elevadores         3          0\n",
      "9                                      NCH Brasil         3          0\n",
      "10  Serviço de Manutenção e Calibração - Elétrica         3          0\n",
      "11       Serviço de Manutenção e Calibração - SMC         3          0\n",
      "12                          Serviço de Utilidades         3          0\n",
      "13                                        Trescal         3          0\n",
      "Engetronic Comercial - Automação\n"
     ]
    },
    {
     "name": "stderr",
     "output_type": "stream",
     "text": [
      "c:\\workspace\\venv\\coleta_dados\\lib\\site-packages\\pandas\\core\\indexing.py:1732: SettingWithCopyWarning: \n",
      "A value is trying to be set on a copy of a slice from a DataFrame\n",
      "\n",
      "See the caveats in the documentation: https://pandas.pydata.org/pandas-docs/stable/user_guide/indexing.html#returning-a-view-versus-a-copy\n",
      "  self._setitem_single_block(indexer, value, name)\n"
     ]
    },
    {
     "name": "stdout",
     "output_type": "stream",
     "text": [
      "1\n",
      "2\n",
      "3\n",
      "                                Centro de Serviço  Total_OS  Executada\n",
      "2                Engetronic Comercial - Automação         3          3\n",
      "3                         Engetronic Equipamentos         3          0\n",
      "4              Engetronic Serviços LTDA - Nobreak         3          0\n",
      "5     Grupo CEI - Soluções em Engenharia Elétrica         3          0\n",
      "6                                            MECQ         3          0\n",
      "7                                       Merck S/A         3          0\n",
      "8                              Milênio Elevadores         3          0\n",
      "9                                      NCH Brasil         3          0\n",
      "10  Serviço de Manutenção e Calibração - Elétrica         3          0\n",
      "11       Serviço de Manutenção e Calibração - SMC         3          0\n",
      "12                          Serviço de Utilidades         3          0\n",
      "13                                        Trescal         3          0\n",
      "Engetronic Equipamentos\n",
      "1\n",
      "Erro division by zero\n"
     ]
    }
   ],
   "source": [
    "tarefa=df.query('Total_OS>Executada')\n",
    "while True:\n",
    "    try:\n",
    "        tarefa=tarefa.query('Total_OS>Executada')\n",
    "        if len(tarefa)>0:\n",
    "            print(tarefa['Centro de Serviço'].iloc[0])\n",
    "            #print(tarefa['Executada'].iloc[0]<tarefa['Total_OS'].iloc[0])\n",
    "            while(tarefa['Executada'].iloc[0]<tarefa['Total_OS'].iloc[0]):\n",
    "                tm.sleep(.2)\n",
    "                tarefa['Executada'].iloc[0]+=1\n",
    "                print(tarefa['Executada'].iloc[0])\n",
    "                if 'Engetronic Equipamentos' in tarefa['Centro de Serviço'].iloc[0]:\n",
    "                    z=17/0\n",
    "                    \n",
    "            print(tarefa)     \n",
    "            \n",
    "\n",
    "        else:\n",
    "            print('Finalizou. Nº de tarefas:',len(tarefa))\n",
    "            break\n",
    "    except Exception as e:\n",
    "        print('Erro',e)\n",
    "        break\n",
    "        "
   ]
  },
  {
   "cell_type": "code",
   "execution_count": 168,
   "id": "6bbaec0e",
   "metadata": {},
   "outputs": [
    {
     "name": "stdout",
     "output_type": "stream",
     "text": [
      "Engetronic Equipamentos\n"
     ]
    },
    {
     "name": "stderr",
     "output_type": "stream",
     "text": [
      "c:\\workspace\\venv\\coleta_dados\\lib\\site-packages\\pandas\\core\\indexing.py:1732: SettingWithCopyWarning: \n",
      "A value is trying to be set on a copy of a slice from a DataFrame\n",
      "\n",
      "See the caveats in the documentation: https://pandas.pydata.org/pandas-docs/stable/user_guide/indexing.html#returning-a-view-versus-a-copy\n",
      "  self._setitem_single_block(indexer, value, name)\n"
     ]
    },
    {
     "name": "stdout",
     "output_type": "stream",
     "text": [
      "2\n",
      "3\n",
      "                                Centro de Serviço  Total_OS  Executada\n",
      "3                         Engetronic Equipamentos         3          3\n",
      "4              Engetronic Serviços LTDA - Nobreak         3          0\n",
      "5     Grupo CEI - Soluções em Engenharia Elétrica         3          0\n",
      "6                                            MECQ         3          0\n",
      "7                                       Merck S/A         3          0\n",
      "8                              Milênio Elevadores         3          0\n",
      "9                                      NCH Brasil         3          0\n",
      "10  Serviço de Manutenção e Calibração - Elétrica         3          0\n",
      "11       Serviço de Manutenção e Calibração - SMC         3          0\n",
      "12                          Serviço de Utilidades         3          0\n",
      "13                                        Trescal         3          0\n",
      "Engetronic Serviços LTDA - Nobreak\n"
     ]
    },
    {
     "name": "stderr",
     "output_type": "stream",
     "text": [
      "c:\\workspace\\venv\\coleta_dados\\lib\\site-packages\\pandas\\core\\indexing.py:1732: SettingWithCopyWarning: \n",
      "A value is trying to be set on a copy of a slice from a DataFrame\n",
      "\n",
      "See the caveats in the documentation: https://pandas.pydata.org/pandas-docs/stable/user_guide/indexing.html#returning-a-view-versus-a-copy\n",
      "  self._setitem_single_block(indexer, value, name)\n"
     ]
    },
    {
     "name": "stdout",
     "output_type": "stream",
     "text": [
      "1\n",
      "2\n",
      "3\n",
      "                                Centro de Serviço  Total_OS  Executada\n",
      "4              Engetronic Serviços LTDA - Nobreak         3          3\n",
      "5     Grupo CEI - Soluções em Engenharia Elétrica         3          0\n",
      "6                                            MECQ         3          0\n",
      "7                                       Merck S/A         3          0\n",
      "8                              Milênio Elevadores         3          0\n",
      "9                                      NCH Brasil         3          0\n",
      "10  Serviço de Manutenção e Calibração - Elétrica         3          0\n",
      "11       Serviço de Manutenção e Calibração - SMC         3          0\n",
      "12                          Serviço de Utilidades         3          0\n",
      "13                                        Trescal         3          0\n",
      "Grupo CEI - Soluções em Engenharia Elétrica\n",
      "1\n"
     ]
    },
    {
     "name": "stderr",
     "output_type": "stream",
     "text": [
      "c:\\workspace\\venv\\coleta_dados\\lib\\site-packages\\pandas\\core\\indexing.py:1732: SettingWithCopyWarning: \n",
      "A value is trying to be set on a copy of a slice from a DataFrame\n",
      "\n",
      "See the caveats in the documentation: https://pandas.pydata.org/pandas-docs/stable/user_guide/indexing.html#returning-a-view-versus-a-copy\n",
      "  self._setitem_single_block(indexer, value, name)\n"
     ]
    },
    {
     "name": "stdout",
     "output_type": "stream",
     "text": [
      "2\n",
      "3\n",
      "                                Centro de Serviço  Total_OS  Executada\n",
      "5     Grupo CEI - Soluções em Engenharia Elétrica         3          3\n",
      "6                                            MECQ         3          0\n",
      "7                                       Merck S/A         3          0\n",
      "8                              Milênio Elevadores         3          0\n",
      "9                                      NCH Brasil         3          0\n",
      "10  Serviço de Manutenção e Calibração - Elétrica         3          0\n",
      "11       Serviço de Manutenção e Calibração - SMC         3          0\n",
      "12                          Serviço de Utilidades         3          0\n",
      "13                                        Trescal         3          0\n",
      "MECQ\n",
      "1\n"
     ]
    },
    {
     "name": "stderr",
     "output_type": "stream",
     "text": [
      "c:\\workspace\\venv\\coleta_dados\\lib\\site-packages\\pandas\\core\\indexing.py:1732: SettingWithCopyWarning: \n",
      "A value is trying to be set on a copy of a slice from a DataFrame\n",
      "\n",
      "See the caveats in the documentation: https://pandas.pydata.org/pandas-docs/stable/user_guide/indexing.html#returning-a-view-versus-a-copy\n",
      "  self._setitem_single_block(indexer, value, name)\n"
     ]
    },
    {
     "name": "stdout",
     "output_type": "stream",
     "text": [
      "2\n",
      "3\n",
      "                                Centro de Serviço  Total_OS  Executada\n",
      "6                                            MECQ         3          3\n",
      "7                                       Merck S/A         3          0\n",
      "8                              Milênio Elevadores         3          0\n",
      "9                                      NCH Brasil         3          0\n",
      "10  Serviço de Manutenção e Calibração - Elétrica         3          0\n",
      "11       Serviço de Manutenção e Calibração - SMC         3          0\n",
      "12                          Serviço de Utilidades         3          0\n",
      "13                                        Trescal         3          0\n",
      "Merck S/A\n"
     ]
    },
    {
     "name": "stderr",
     "output_type": "stream",
     "text": [
      "c:\\workspace\\venv\\coleta_dados\\lib\\site-packages\\pandas\\core\\indexing.py:1732: SettingWithCopyWarning: \n",
      "A value is trying to be set on a copy of a slice from a DataFrame\n",
      "\n",
      "See the caveats in the documentation: https://pandas.pydata.org/pandas-docs/stable/user_guide/indexing.html#returning-a-view-versus-a-copy\n",
      "  self._setitem_single_block(indexer, value, name)\n"
     ]
    },
    {
     "name": "stdout",
     "output_type": "stream",
     "text": [
      "1\n",
      "2\n",
      "3\n",
      "                                Centro de Serviço  Total_OS  Executada\n",
      "7                                       Merck S/A         3          3\n",
      "8                              Milênio Elevadores         3          0\n",
      "9                                      NCH Brasil         3          0\n",
      "10  Serviço de Manutenção e Calibração - Elétrica         3          0\n",
      "11       Serviço de Manutenção e Calibração - SMC         3          0\n",
      "12                          Serviço de Utilidades         3          0\n",
      "13                                        Trescal         3          0\n",
      "Milênio Elevadores\n",
      "1\n"
     ]
    },
    {
     "name": "stderr",
     "output_type": "stream",
     "text": [
      "c:\\workspace\\venv\\coleta_dados\\lib\\site-packages\\pandas\\core\\indexing.py:1732: SettingWithCopyWarning: \n",
      "A value is trying to be set on a copy of a slice from a DataFrame\n",
      "\n",
      "See the caveats in the documentation: https://pandas.pydata.org/pandas-docs/stable/user_guide/indexing.html#returning-a-view-versus-a-copy\n",
      "  self._setitem_single_block(indexer, value, name)\n"
     ]
    },
    {
     "name": "stdout",
     "output_type": "stream",
     "text": [
      "2\n",
      "3\n",
      "                                Centro de Serviço  Total_OS  Executada\n",
      "8                              Milênio Elevadores         3          3\n",
      "9                                      NCH Brasil         3          0\n",
      "10  Serviço de Manutenção e Calibração - Elétrica         3          0\n",
      "11       Serviço de Manutenção e Calibração - SMC         3          0\n",
      "12                          Serviço de Utilidades         3          0\n",
      "13                                        Trescal         3          0\n",
      "NCH Brasil\n"
     ]
    },
    {
     "name": "stderr",
     "output_type": "stream",
     "text": [
      "c:\\workspace\\venv\\coleta_dados\\lib\\site-packages\\pandas\\core\\indexing.py:1732: SettingWithCopyWarning: \n",
      "A value is trying to be set on a copy of a slice from a DataFrame\n",
      "\n",
      "See the caveats in the documentation: https://pandas.pydata.org/pandas-docs/stable/user_guide/indexing.html#returning-a-view-versus-a-copy\n",
      "  self._setitem_single_block(indexer, value, name)\n"
     ]
    },
    {
     "name": "stdout",
     "output_type": "stream",
     "text": [
      "1\n",
      "2\n",
      "3\n",
      "                                Centro de Serviço  Total_OS  Executada\n",
      "9                                      NCH Brasil         3          3\n",
      "10  Serviço de Manutenção e Calibração - Elétrica         3          0\n",
      "11       Serviço de Manutenção e Calibração - SMC         3          0\n",
      "12                          Serviço de Utilidades         3          0\n",
      "13                                        Trescal         3          0\n",
      "Serviço de Manutenção e Calibração - Elétrica\n",
      "1\n"
     ]
    },
    {
     "name": "stderr",
     "output_type": "stream",
     "text": [
      "c:\\workspace\\venv\\coleta_dados\\lib\\site-packages\\pandas\\core\\indexing.py:1732: SettingWithCopyWarning: \n",
      "A value is trying to be set on a copy of a slice from a DataFrame\n",
      "\n",
      "See the caveats in the documentation: https://pandas.pydata.org/pandas-docs/stable/user_guide/indexing.html#returning-a-view-versus-a-copy\n",
      "  self._setitem_single_block(indexer, value, name)\n"
     ]
    },
    {
     "name": "stdout",
     "output_type": "stream",
     "text": [
      "2\n",
      "3\n",
      "                                Centro de Serviço  Total_OS  Executada\n",
      "10  Serviço de Manutenção e Calibração - Elétrica         3          3\n",
      "11       Serviço de Manutenção e Calibração - SMC         3          0\n",
      "12                          Serviço de Utilidades         3          0\n",
      "13                                        Trescal         3          0\n",
      "Serviço de Manutenção e Calibração - SMC\n",
      "1\n"
     ]
    },
    {
     "name": "stderr",
     "output_type": "stream",
     "text": [
      "c:\\workspace\\venv\\coleta_dados\\lib\\site-packages\\pandas\\core\\indexing.py:1732: SettingWithCopyWarning: \n",
      "A value is trying to be set on a copy of a slice from a DataFrame\n",
      "\n",
      "See the caveats in the documentation: https://pandas.pydata.org/pandas-docs/stable/user_guide/indexing.html#returning-a-view-versus-a-copy\n",
      "  self._setitem_single_block(indexer, value, name)\n"
     ]
    },
    {
     "name": "stdout",
     "output_type": "stream",
     "text": [
      "2\n",
      "3\n",
      "                           Centro de Serviço  Total_OS  Executada\n",
      "11  Serviço de Manutenção e Calibração - SMC         3          3\n",
      "12                     Serviço de Utilidades         3          0\n",
      "13                                   Trescal         3          0\n",
      "Serviço de Utilidades\n",
      "1\n"
     ]
    },
    {
     "name": "stderr",
     "output_type": "stream",
     "text": [
      "c:\\workspace\\venv\\coleta_dados\\lib\\site-packages\\pandas\\core\\indexing.py:1732: SettingWithCopyWarning: \n",
      "A value is trying to be set on a copy of a slice from a DataFrame\n",
      "\n",
      "See the caveats in the documentation: https://pandas.pydata.org/pandas-docs/stable/user_guide/indexing.html#returning-a-view-versus-a-copy\n",
      "  self._setitem_single_block(indexer, value, name)\n"
     ]
    },
    {
     "name": "stdout",
     "output_type": "stream",
     "text": [
      "2\n",
      "3\n",
      "        Centro de Serviço  Total_OS  Executada\n",
      "12  Serviço de Utilidades         3          3\n",
      "13                Trescal         3          0\n",
      "Trescal\n",
      "1\n"
     ]
    },
    {
     "name": "stderr",
     "output_type": "stream",
     "text": [
      "c:\\workspace\\venv\\coleta_dados\\lib\\site-packages\\pandas\\core\\indexing.py:1732: SettingWithCopyWarning: \n",
      "A value is trying to be set on a copy of a slice from a DataFrame\n",
      "\n",
      "See the caveats in the documentation: https://pandas.pydata.org/pandas-docs/stable/user_guide/indexing.html#returning-a-view-versus-a-copy\n",
      "  self._setitem_single_block(indexer, value, name)\n"
     ]
    },
    {
     "name": "stdout",
     "output_type": "stream",
     "text": [
      "2\n",
      "3\n",
      "   Centro de Serviço  Total_OS  Executada\n",
      "13           Trescal         3          3\n",
      "Finalizou. Nº de tarefas: 0\n"
     ]
    }
   ],
   "source": [
    "while True:\n",
    "    try:\n",
    "        tarefa=tarefa.query('Total_OS>Executada')\n",
    "        if len(tarefa)>0:\n",
    "            print(tarefa['Centro de Serviço'].iloc[0])\n",
    "            #print(tarefa['Executada'].iloc[0]<tarefa['Total_OS'].iloc[0])\n",
    "            while(tarefa['Executada'].iloc[0]<tarefa['Total_OS'].iloc[0]):\n",
    "                tm.sleep(.2)\n",
    "                tarefa['Executada'].iloc[0]+=1\n",
    "                print(tarefa['Executada'].iloc[0])\n",
    "                \n",
    "\n",
    "            print(tarefa)     \n",
    "            \n",
    "\n",
    "        else:\n",
    "            print('Finalizou. Nº de tarefas:',len(tarefa))\n",
    "            break\n",
    "    except Exception as e:\n",
    "        print('Erro',e)\n",
    "        break\n",
    "        "
   ]
  },
  {
   "cell_type": "code",
   "execution_count": 169,
   "id": "3d5912da",
   "metadata": {},
   "outputs": [
    {
     "data": {
      "text/html": [
       "<div>\n",
       "<style scoped>\n",
       "    .dataframe tbody tr th:only-of-type {\n",
       "        vertical-align: middle;\n",
       "    }\n",
       "\n",
       "    .dataframe tbody tr th {\n",
       "        vertical-align: top;\n",
       "    }\n",
       "\n",
       "    .dataframe thead th {\n",
       "        text-align: right;\n",
       "    }\n",
       "</style>\n",
       "<table border=\"1\" class=\"dataframe\">\n",
       "  <thead>\n",
       "    <tr style=\"text-align: right;\">\n",
       "      <th></th>\n",
       "      <th>Centro de Serviço</th>\n",
       "      <th>Total_OS</th>\n",
       "      <th>Executada</th>\n",
       "    </tr>\n",
       "  </thead>\n",
       "  <tbody>\n",
       "  </tbody>\n",
       "</table>\n",
       "</div>"
      ],
      "text/plain": [
       "Empty DataFrame\n",
       "Columns: [Centro de Serviço, Total_OS, Executada]\n",
       "Index: []"
      ]
     },
     "execution_count": 169,
     "metadata": {},
     "output_type": "execute_result"
    }
   ],
   "source": [
    "tarefa"
   ]
  },
  {
   "cell_type": "code",
   "execution_count": 140,
   "id": "45818afd",
   "metadata": {},
   "outputs": [
    {
     "data": {
      "text/html": [
       "<div>\n",
       "<style scoped>\n",
       "    .dataframe tbody tr th:only-of-type {\n",
       "        vertical-align: middle;\n",
       "    }\n",
       "\n",
       "    .dataframe tbody tr th {\n",
       "        vertical-align: top;\n",
       "    }\n",
       "\n",
       "    .dataframe thead th {\n",
       "        text-align: right;\n",
       "    }\n",
       "</style>\n",
       "<table border=\"1\" class=\"dataframe\">\n",
       "  <thead>\n",
       "    <tr style=\"text-align: right;\">\n",
       "      <th></th>\n",
       "      <th>Centro de Serviço</th>\n",
       "      <th>Total_OS</th>\n",
       "      <th>Executada</th>\n",
       "    </tr>\n",
       "  </thead>\n",
       "  <tbody>\n",
       "  </tbody>\n",
       "</table>\n",
       "</div>"
      ],
      "text/plain": [
       "Empty DataFrame\n",
       "Columns: [Centro de Serviço, Total_OS, Executada]\n",
       "Index: []"
      ]
     },
     "execution_count": 140,
     "metadata": {},
     "output_type": "execute_result"
    }
   ],
   "source": [
    "x=pd.DataFrame([1,2,3,4],columns=['c1','c2','c3','c4'])\n",
    "y=x\n",
    "y.loc\n",
    "x"
   ]
  },
  {
   "cell_type": "code",
   "execution_count": 76,
   "id": "89b1cd45",
   "metadata": {},
   "outputs": [
    {
     "data": {
      "text/html": [
       "<div>\n",
       "<style scoped>\n",
       "    .dataframe tbody tr th:only-of-type {\n",
       "        vertical-align: middle;\n",
       "    }\n",
       "\n",
       "    .dataframe tbody tr th {\n",
       "        vertical-align: top;\n",
       "    }\n",
       "\n",
       "    .dataframe thead th {\n",
       "        text-align: right;\n",
       "    }\n",
       "</style>\n",
       "<table border=\"1\" class=\"dataframe\">\n",
       "  <thead>\n",
       "    <tr style=\"text-align: right;\">\n",
       "      <th></th>\n",
       "      <th>Centro de Serviço</th>\n",
       "      <th>Total_OS</th>\n",
       "      <th>Executada</th>\n",
       "    </tr>\n",
       "  </thead>\n",
       "  <tbody>\n",
       "    <tr>\n",
       "      <th>0</th>\n",
       "      <td>Cetest Solutions on Service - Vapor</td>\n",
       "      <td>3</td>\n",
       "      <td>6</td>\n",
       "    </tr>\n",
       "    <tr>\n",
       "      <th>1</th>\n",
       "      <td>Engetronic - Refrigeração</td>\n",
       "      <td>3</td>\n",
       "      <td>6</td>\n",
       "    </tr>\n",
       "    <tr>\n",
       "      <th>2</th>\n",
       "      <td>Engetronic Comercial - Automação</td>\n",
       "      <td>3</td>\n",
       "      <td>0</td>\n",
       "    </tr>\n",
       "    <tr>\n",
       "      <th>3</th>\n",
       "      <td>Engetronic Equipamentos</td>\n",
       "      <td>3</td>\n",
       "      <td>0</td>\n",
       "    </tr>\n",
       "    <tr>\n",
       "      <th>4</th>\n",
       "      <td>Engetronic Serviços LTDA - Nobreak</td>\n",
       "      <td>3</td>\n",
       "      <td>0</td>\n",
       "    </tr>\n",
       "    <tr>\n",
       "      <th>5</th>\n",
       "      <td>Grupo CEI - Soluções em Engenharia Elétrica</td>\n",
       "      <td>3</td>\n",
       "      <td>0</td>\n",
       "    </tr>\n",
       "    <tr>\n",
       "      <th>6</th>\n",
       "      <td>MECQ</td>\n",
       "      <td>3</td>\n",
       "      <td>0</td>\n",
       "    </tr>\n",
       "    <tr>\n",
       "      <th>7</th>\n",
       "      <td>Merck S/A</td>\n",
       "      <td>3</td>\n",
       "      <td>0</td>\n",
       "    </tr>\n",
       "    <tr>\n",
       "      <th>8</th>\n",
       "      <td>Milênio Elevadores</td>\n",
       "      <td>3</td>\n",
       "      <td>0</td>\n",
       "    </tr>\n",
       "    <tr>\n",
       "      <th>9</th>\n",
       "      <td>NCH Brasil</td>\n",
       "      <td>3</td>\n",
       "      <td>0</td>\n",
       "    </tr>\n",
       "    <tr>\n",
       "      <th>10</th>\n",
       "      <td>Serviço de Manutenção e Calibração - Elétrica</td>\n",
       "      <td>3</td>\n",
       "      <td>0</td>\n",
       "    </tr>\n",
       "    <tr>\n",
       "      <th>11</th>\n",
       "      <td>Serviço de Manutenção e Calibração - SMC</td>\n",
       "      <td>3</td>\n",
       "      <td>0</td>\n",
       "    </tr>\n",
       "    <tr>\n",
       "      <th>12</th>\n",
       "      <td>Serviço de Utilidades</td>\n",
       "      <td>3</td>\n",
       "      <td>0</td>\n",
       "    </tr>\n",
       "    <tr>\n",
       "      <th>13</th>\n",
       "      <td>Trescal</td>\n",
       "      <td>3</td>\n",
       "      <td>0</td>\n",
       "    </tr>\n",
       "  </tbody>\n",
       "</table>\n",
       "</div>"
      ],
      "text/plain": [
       "                                Centro de Serviço  Total_OS  Executada\n",
       "0             Cetest Solutions on Service - Vapor         3          6\n",
       "1                       Engetronic - Refrigeração         3          6\n",
       "2                Engetronic Comercial - Automação         3          0\n",
       "3                         Engetronic Equipamentos         3          0\n",
       "4              Engetronic Serviços LTDA - Nobreak         3          0\n",
       "5     Grupo CEI - Soluções em Engenharia Elétrica         3          0\n",
       "6                                            MECQ         3          0\n",
       "7                                       Merck S/A         3          0\n",
       "8                              Milênio Elevadores         3          0\n",
       "9                                      NCH Brasil         3          0\n",
       "10  Serviço de Manutenção e Calibração - Elétrica         3          0\n",
       "11       Serviço de Manutenção e Calibração - SMC         3          0\n",
       "12                          Serviço de Utilidades         3          0\n",
       "13                                        Trescal         3          0"
      ]
     },
     "execution_count": 76,
     "metadata": {},
     "output_type": "execute_result"
    }
   ],
   "source": [
    "df.iloc[0,2]=6\n",
    "df.iloc[1,2]=6\n",
    "df['Centro de Serviço'].loc[(df['Total_OS']>df['Executada'])&(df['Executada']<1)]\n",
    "df"
   ]
  },
  {
   "cell_type": "code",
   "execution_count": 22,
   "id": "58b3e822",
   "metadata": {},
   "outputs": [
    {
     "name": "stdout",
     "output_type": "stream",
     "text": [
      "//*[@id=\"isosystem_contentfrm\"]\n",
      "//*[@id=\"isoleft\"]\n",
      "//*[@id=\"isosystem_contentfrm\"]\n",
      "//*[@id=\"isoleft\"]\n",
      "//*[@id=\"isoleft_filter\"]\n",
      "Engetronic Equipamentos - Engetronic Equipamentos\n",
      "//*[@id=\"isosystem_contentfrm\"]\n",
      "//*[@id=\"isoright\"]\n",
      "max  164\n",
      "sel  200\n",
      "//*[@id=\"isosystem_contentfrm\"]\n",
      "//*[@id=\"isoright\"]\n"
     ]
    },
    {
     "name": "stderr",
     "output_type": "stream",
     "text": [
      "C:\\Users\\lejog\\AppData\\Local\\Temp/ipykernel_16392/2832513993.py:114: DeprecationWarning: find_elements_by_* commands are deprecated. Please use find_elements() instead\n",
      "  t=len(self.nav.find_elements_by_xpath(xpath))\n"
     ]
    },
    {
     "name": "stdout",
     "output_type": "stream",
     "text": [
      "dict_values([2, 4, 5, 6, 7, 8, 9, 10, 11])\n",
      "dict_keys(['SA', 'P', 'Atividade-Identificador', 'Ativo-Identificador', 'Nome', 'Data início planejada', 'Data fim planejada', 'Data início realizada', 'Data fim realizada'])\n",
      "//*[@id=\"isosystem_contentfrm\"]\n",
      "//*[@id=\"isoright\"]\n",
      "//*[@id=\"isosystem_contentfrm\"]\n",
      "//*[@id=\"isoright\"]\n",
      "MP-SMC-006671\n",
      "LUP-00008\n",
      "PÇ- Lupa Microcanal VMT BR457\n",
      "01/10/2021\n",
      "29/10/2021\n",
      "15/10/2021\n",
      "15/10/2021\n",
      "Engetronic Equipamentos - Engetronic Equipamentos \n",
      "SAP Serviço de Animais Peçonhentos - 099\n",
      "//*[@id=\"isosystem_contentfrm\"]\n",
      "//*[@id=\"isoright\"]\n",
      "OS-MNT-018359\n",
      "PPARV-25B\n",
      "Pipetador Automático Transferpette 100 a 1000µL\n",
      "10/08/2021\n",
      "12/08/2021\n",
      "11/10/2021\n",
      "19/10/2021\n",
      "1 - 2\n",
      "Engetronic Equipamentos - Engetronic Equipamentos \n",
      "2 - 3\n",
      "SVR RA - Laboratório de Raiva\n",
      "DIOM - Laborátorio de Raiva\n",
      "3 - 2\n",
      "[['Encerrada', 'Em dia', 'MP-SMC-006671', 'LUP-00008', 'PÇ- Lupa Microcanal VMT BR457', '01/10/2021', '29/10/2021', '15/10/2021', '15/10/2021', 'Engetronic Equipamentos - Engetronic Equipamentos ', 'Preventiva', 'SAP Serviço de Animais Peçonhentos - 099', ''], ['Encerrada', 'Atrasado', 'OS-MNT-018359', 'PPARV-25B', 'Pipetador Automático Transferpette 100 a 1000µL', '10/08/2021', '12/08/2021', '11/10/2021', '19/10/2021', 'Engetronic Equipamentos - Engetronic Equipamentos ', 'MNT-SMC-004296', 'SVR RA - Laboratório de Raiva', 'DIOM - Laborátorio de Raiva']]\n"
     ]
    }
   ],
   "source": [
    "#1 - \n",
    "rel=ConsultaAtividade(janela_principal,nav)\n",
    "\n",
    "rel.consulta_os_centroDeServiço('Engetronic Equipamentos','01/10/2021','31/10/2021')\n",
    "cs=rel.coluna_position()\n",
    "\n",
    "\n",
    "rel.relatorio_atividade('',cs,'01/10/2021','31/10/2021')"
   ]
  },
  {
   "cell_type": "code",
   "execution_count": 16,
   "id": "503cd4f2",
   "metadata": {},
   "outputs": [
    {
     "data": {
      "text/plain": [
       "{'SA': 2,\n",
       " 'P': 4,\n",
       " 'Atividade-Identificador': 5,\n",
       " 'Ativo-Identificador': 6,\n",
       " 'Nome': 7,\n",
       " 'Data início planejada': 8,\n",
       " 'Data fim planejada': 9,\n",
       " 'Data início realizada': 10,\n",
       " 'Data fim realizada': 11}"
      ]
     },
     "execution_count": 16,
     "metadata": {},
     "output_type": "execute_result"
    }
   ],
   "source": [
    "cs"
   ]
  },
  {
   "cell_type": "code",
   "execution_count": null,
   "id": "b53af8c6",
   "metadata": {},
   "outputs": [],
   "source": [
    "\n",
    "\n"
   ]
  },
  {
   "cell_type": "code",
   "execution_count": null,
   "id": "8327f8b4",
   "metadata": {
    "collapsed": true
   },
   "outputs": [],
   "source": []
  },
  {
   "cell_type": "code",
   "execution_count": 8,
   "id": "4efd872e",
   "metadata": {},
   "outputs": [
    {
     "ename": "TypeError",
     "evalue": "relatorio_atividade() missing 2 required positional arguments: 'datai' and 'dataf'",
     "output_type": "error",
     "traceback": [
      "\u001b[1;31m---------------------------------------------------------------------------\u001b[0m",
      "\u001b[1;31mTypeError\u001b[0m                                 Traceback (most recent call last)",
      "\u001b[1;32m~\\AppData\\Local\\Temp/ipykernel_12572/4057749064.py\u001b[0m in \u001b[0;36m<module>\u001b[1;34m\u001b[0m\n\u001b[0;32m      1\u001b[0m \u001b[0mrel\u001b[0m\u001b[1;33m=\u001b[0m\u001b[0mConsultaAtividade\u001b[0m\u001b[1;33m(\u001b[0m\u001b[0mjanela_principal\u001b[0m\u001b[1;33m,\u001b[0m\u001b[0mnav\u001b[0m\u001b[1;33m)\u001b[0m\u001b[1;33m\u001b[0m\u001b[1;33m\u001b[0m\u001b[0m\n\u001b[1;32m----> 2\u001b[1;33m \u001b[0mrel\u001b[0m\u001b[1;33m.\u001b[0m\u001b[0mrelatorio_atividade\u001b[0m\u001b[1;33m(\u001b[0m\u001b[1;34m'01/10/2021'\u001b[0m\u001b[1;33m,\u001b[0m\u001b[1;34m'31/10/2021'\u001b[0m\u001b[1;33m)\u001b[0m\u001b[1;33m\u001b[0m\u001b[1;33m\u001b[0m\u001b[0m\n\u001b[0m",
      "\u001b[1;31mTypeError\u001b[0m: relatorio_atividade() missing 2 required positional arguments: 'datai' and 'dataf'"
     ]
    }
   ],
   "source": []
  },
  {
   "cell_type": "code",
   "execution_count": 86,
   "id": "1cc4dbf7",
   "metadata": {},
   "outputs": [
    {
     "name": "stdout",
     "output_type": "stream",
     "text": [
      "//*[@id=\"isosystem_contentfrm\"]\n",
      "//*[@id=\"isoright\"]\n",
      "max  710\n",
      "sel  200\n"
     ]
    }
   ],
   "source": [
    "rel=ConsultaAtividade(janela_principal,nav)\n",
    "rel.organiza_busca()\n",
    "\n",
    "\n",
    "    \n",
    "    \n",
    "\n"
   ]
  },
  {
   "cell_type": "code",
   "execution_count": null,
   "id": "81792b26",
   "metadata": {
    "collapsed": true
   },
   "outputs": [],
   "source": []
  },
  {
   "cell_type": "code",
   "execution_count": 3,
   "id": "31ff8283",
   "metadata": {},
   "outputs": [
    {
     "name": "stdout",
     "output_type": "stream",
     "text": [
      "//*[@id=\"isosystem_contentfrm\"]\n",
      "//*[@id=\"isoleft\"]\n",
      "//*[@id=\"isosystem_contentfrm\"]\n",
      "//*[@id=\"isoleft\"]\n",
      "//*[@id=\"isoleft_filter\"]\n",
      "Engetronic Equipamentos - Engetronic Equipamentos\n",
      "//*[@id=\"isosystem_contentfrm\"]\n",
      "//*[@id=\"isoright\"]\n",
      "max  162\n",
      "sel  200\n"
     ]
    }
   ],
   "source": [
    "rel=ConsultaAtividade(janela_principal,nav)\n",
    "rel.consulta_os_centroDeServiço('Engetronic Equipamentos','01/10/2021','31/10/2021')"
   ]
  },
  {
   "cell_type": "code",
   "execution_count": 262,
   "id": "baf52b77",
   "metadata": {},
   "outputs": [
    {
     "name": "stdout",
     "output_type": "stream",
     "text": [
      "//*[@id=\"isosystem_contentfrm\"]\n",
      "//*[@id=\"isoright\"]\n",
      "\n",
      "dict_values([2, 4, 5, 6, 7, 8, 9, 10, 11])\n",
      "dict_keys(['SA', 'P', 'Atividade-Identificador', 'Ativo-Identificador', 'Nome', 'Data início planejada', 'Data fim planejada', 'Data início realizada', 'Data fim realizada'])\n",
      "//*[@id=\"isosystem_contentfrm\"]\n",
      "//*[@id=\"isoright\"]\n",
      "//*[@id=\"isosystem_contentfrm\"]\n",
      "//*[@id=\"isoright\"]\n",
      "Encerrada\n",
      "Em dia\n",
      "MP-DI-SMC-002203\n",
      "RTR-00001\n",
      "FS- Reator STILNOX 200L - SPSF\n",
      "01/10/2021\n",
      "29/10/2021\n",
      "14/10/2021\n",
      "14/10/2021\n"
     ]
    }
   ],
   "source": [
    "\n",
    "\n",
    "rel=ConsultaAtividade(janela_principal,nav)\n",
    "rel.colText()"
   ]
  },
  {
   "cell_type": "code",
   "execution_count": 210,
   "id": "60cd02ad",
   "metadata": {},
   "outputs": [
    {
     "name": "stdout",
     "output_type": "stream",
     "text": [
      "//*[@id=\"isosystem_contentfrm\"]\n",
      "//*[@id=\"isoright\"]\n",
      "\n",
      "2 - SA\n",
      "4 - P\n",
      "5 - Atividade-Identificador\n",
      "6 - Ativo-Identificador\n",
      "7 - Nome\n",
      "8 - Data início planejada\n",
      "9 - Data fim planejada\n",
      "10 - Data início realizada\n",
      "11 - Data fim realizada\n",
      "dict_values([2, 4, 5, 6, 7, 8, 9, 10, 11])\n",
      "dict_keys(['SA', 'P', 'Atividade-Identificador', 'Ativo-Identificador', 'Nome', 'Data início planejada', 'Data fim planejada', 'Data início realizada', 'Data fim realizada'])\n"
     ]
    }
   ],
   "source": [
    "rel=ConsultaAtividade(janela_principal,nav)\n",
    "rel.coluna_position()"
   ]
  },
  {
   "cell_type": "code",
   "execution_count": null,
   "id": "9d24da67",
   "metadata": {},
   "outputs": [],
   "source": [
    "\n",
    "\n"
   ]
  },
  {
   "cell_type": "code",
   "execution_count": null,
   "id": "dd92e77d",
   "metadata": {
    "collapsed": true
   },
   "outputs": [],
   "source": []
  },
  {
   "cell_type": "code",
   "execution_count": null,
   "id": "0bfdcf57",
   "metadata": {},
   "outputs": [],
   "source": []
  },
  {
   "cell_type": "code",
   "execution_count": 105,
   "id": "9c88bff6",
   "metadata": {},
   "outputs": [
    {
     "name": "stdout",
     "output_type": "stream",
     "text": [
      "Engetronic Equipamentos\n"
     ]
    }
   ],
   "source": [
    "rel=ConsultaAtividade(janela_principal,nav)\n",
    "rel.relatorio_ativide('Engetronic Equipamentos','01/10/2021','31/10/2021')"
   ]
  },
  {
   "cell_type": "code",
   "execution_count": 3,
   "id": "d2830a7a",
   "metadata": {
    "scrolled": true
   },
   "outputs": [
    {
     "name": "stdout",
     "output_type": "stream",
     "text": [
      "sel  200\n"
     ]
    }
   ],
   "source": [
    "#Buscar Programação Atividade\n",
    "menu=ProgramacaoAtividade(janela_principal,nav)\n",
    "menu.programacao_busca_atividade('tres',True)\n",
    "\n"
   ]
  },
  {
   "cell_type": "code",
   "execution_count": 4,
   "id": "b5666f10",
   "metadata": {},
   "outputs": [
    {
     "name": "stdout",
     "output_type": "stream",
     "text": [
      "ini 1 __f 7\n",
      "http://srvsesuite.funed.lan/se/temp/seJasperPdf5023674482155955314.pdf -- <class 'str'>\n",
      "ini 2 __f 7\n",
      "http://srvsesuite.funed.lan/se/temp/seJasperPdf8101429894335001074.pdf -- <class 'str'>\n",
      "ini 3 __f 7\n",
      "http://srvsesuite.funed.lan/se/temp/seJasperPdf7674842247060668338.pdf -- <class 'str'>\n",
      "ini 4 __f 7\n",
      "http://srvsesuite.funed.lan/se/temp/seJasperPdf7302658192095585681.pdf -- <class 'str'>\n",
      "ini 5 __f 7\n",
      "http://srvsesuite.funed.lan/se/temp/seJasperPdf1436056337314343359.pdf -- <class 'str'>\n",
      "ini 6 __f 7\n",
      "http://srvsesuite.funed.lan/se/temp/seJasperPdf5796314017632047752.pdf -- <class 'str'>\n"
     ]
    }
   ],
   "source": [
    "#Imprimir Programação Atividade\n",
    "menu=ProgramacaoAtividade(janela_principal,nav)\n",
    "menu.teste()"
   ]
  },
  {
   "cell_type": "code",
   "execution_count": null,
   "id": "ab2e4bae",
   "metadata": {},
   "outputs": [],
   "source": []
  },
  {
   "cell_type": "code",
   "execution_count": 30,
   "id": "e6ee30f9",
   "metadata": {},
   "outputs": [
    {
     "name": "stdout",
     "output_type": "stream",
     "text": [
      "//*[@id=\"frmPendencyScreen\"]\n",
      "//*[@id=\"isoleft\"]\n",
      "//*[@id=\"frmPendencyScreen\"]\n",
      "//*[@id=\"isoleft\"]\n",
      "//*[@id=\"IFRAMETREE\"]\n",
      "//*[@id=\"frmPendencyScreen\"]\n",
      "//*[@id=\"isoleft\"]\n",
      "//*[@id=\"frmPendencyScreen\"]\n",
      "//*[@id=\"isoleft\"]\n",
      "//*[@id=\"IFRAME\"]\n"
     ]
    }
   ],
   "source": [
    "pend=Pendencia(janela_principal,nav)\n",
    "pend.busca_vencimento_plano('csb')\n"
   ]
  },
  {
   "cell_type": "code",
   "execution_count": null,
   "id": "7323656f",
   "metadata": {},
   "outputs": [],
   "source": []
  },
  {
   "cell_type": "code",
   "execution_count": null,
   "id": "ae62c068",
   "metadata": {},
   "outputs": [],
   "source": [
    "\n",
    "\n"
   ]
  },
  {
   "cell_type": "code",
   "execution_count": null,
   "id": "1372c6b7",
   "metadata": {
    "collapsed": true
   },
   "outputs": [],
   "source": []
  },
  {
   "cell_type": "code",
   "execution_count": null,
   "id": "6238a556",
   "metadata": {},
   "outputs": [],
   "source": [
    "at=ProgramacaoAtividade(nav.window_handles[0],nav)\n",
    "at.programacao_busca_atividade('ços',True)\n",
    "#menu.trocar_janela(nav.window_handles[0])\n",
    "#menu.iframe_default()\n",
    "#menu.acesso_frames('esquerda')\n",
    "#menu.exist_by_xpath('//*[@id=\"idactivity\"]')"
   ]
  },
  {
   "cell_type": "code",
   "execution_count": 38,
   "id": "a2fa9535",
   "metadata": {
    "scrolled": true
   },
   "outputs": [
    {
     "name": "stdout",
     "output_type": "stream",
     "text": [
      "//*[@id=\"isosystem_contentfrm\"]\n",
      "//*[@id=\"isoright\"]\n",
      "//*[@id=\"isosystem_contentfrm\"]\n"
     ]
    }
   ],
   "source": [
    "at=ProgramacaoAtividade(nav.window_handles[0],nav)\n",
    "at.teste()\n"
   ]
  },
  {
   "cell_type": "code",
   "execution_count": 14,
   "id": "80d170c8",
   "metadata": {},
   "outputs": [
    {
     "name": "stdout",
     "output_type": "stream",
     "text": [
      "4.0132036209106445\n"
     ]
    }
   ],
   "source": [
    "i=tm.time()\n",
    "tm.sleep(4)\n",
    "f=tm.time()\n",
    "t=f-i\n",
    "print(t)"
   ]
  },
  {
   "cell_type": "code",
   "execution_count": null,
   "id": "576a81e3",
   "metadata": {},
   "outputs": [],
   "source": [
    "\n",
    "nav.switch_to.window(nav.window_handles[0])\n",
    "nav.switch_to.default_content()\n",
    "nav.switch_to.frame(nav.find_element_by_xpath('//*[@id=\"isosystem_contentfrm\"]'))\n"
   ]
  },
  {
   "cell_type": "code",
   "execution_count": null,
   "id": "99525984",
   "metadata": {
    "collapsed": true
   },
   "outputs": [],
   "source": [
    "'//*[@id=\"isosystem_contentfrm\"]','//*[@id=\"isoleft\"]'\n",
    "                  ,'/html/body/div/div/div[1]/h2[2]','//*[@id=\"isoleft_filter\"]')"
   ]
  },
  {
   "cell_type": "code",
   "execution_count": 4,
   "id": "6d9c13e1",
   "metadata": {},
   "outputs": [
    {
     "name": "stdout",
     "output_type": "stream",
     "text": [
      "//*[@id=\"isosystem_contentfrm\"]\n",
      "//*[@id=\"isoleft\"]\n",
      "//*[@id=\"isosystem_contentfrm\"]\n",
      "//*[@id=\"isoleft\"]\n",
      "//*[@id=\"isoleft_filter\"]\n",
      "//*[@id=\"isosystem_contentfrm\"]\n",
      "//*[@id=\"isoright\"]\n"
     ]
    }
   ],
   "source": [
    "\n",
    "\n"
   ]
  },
  {
   "cell_type": "code",
   "execution_count": null,
   "id": "0cb15428",
   "metadata": {},
   "outputs": [],
   "source": [
    "nav.switch_to.window(nav.window_handles[1])\n",
    "#nav.find_element_by_id('reportPdfFrame').get_attribute('src')\n",
    "nav.find_element_by_xpath('//*[@id=\"reportPdfFrame\"]').get_attribute('src')"
   ]
  },
  {
   "cell_type": "code",
   "execution_count": 32,
   "id": "3c8f2dd2",
   "metadata": {},
   "outputs": [
    {
     "data": {
      "text/plain": [
       "'http://srvsesuite.funed.lan/se/temp/seJasperPdf31770827122298637.pdf'"
      ]
     },
     "execution_count": 32,
     "metadata": {},
     "output_type": "execute_result"
    }
   ],
   "source": [
    "menu.trocar_janela(menu.getId_Ultima_Janela())\n",
    "menu.get_css_atributo('//*[@id=\"reportPdfFrame\"]','src')"
   ]
  },
  {
   "cell_type": "code",
   "execution_count": null,
   "id": "8fdd2853",
   "metadata": {},
   "outputs": [],
   "source": [
    "janela_principal=nav.window_handles[0]\n",
    "prog=ProgramacaoAtividade(janela_principal,nav)\n",
    "prog.\n",
    "\n",
    "\n",
    "#print(menu.download_url())"
   ]
  },
  {
   "cell_type": "code",
   "execution_count": 18,
   "id": "c67f256c",
   "metadata": {},
   "outputs": [
    {
     "name": "stdout",
     "output_type": "stream",
     "text": [
      "2\n"
     ]
    }
   ],
   "source": [
    "menu=Menu(nav.window_handles[0],nav)\n",
    "\n",
    "x=nav.window_handles\n",
    "print(len(x))"
   ]
  },
  {
   "cell_type": "code",
   "execution_count": null,
   "id": "8bcbdc30",
   "metadata": {},
   "outputs": [],
   "source": [
    "nav.switch_to_window(nav.window_handles[-1])\n",
    "x=nav.find_element_by_xpath('//*[@id=\"plugin\"]')\n",
    "x\n",
    "#menu.get_css_atributo('//*[@id=\"plugin\"]','original-url')"
   ]
  },
  {
   "cell_type": "code",
   "execution_count": 7,
   "id": "4ea2b4ab",
   "metadata": {},
   "outputs": [
    {
     "name": "stdout",
     "output_type": "stream",
     "text": [
      "felino\n",
      "None\n",
      "felino\n",
      "None\n",
      "{1: 's'}\n",
      "None\n"
     ]
    },
    {
     "data": {
      "text/plain": [
       "<bound method gato.ptipo of <__main__.gato object at 0x0000021FDE0D4850>>"
      ]
     },
     "execution_count": 7,
     "metadata": {},
     "output_type": "execute_result"
    }
   ],
   "source": [
    "#Teste Class\n",
    "class gato():\n",
    "    def __init__(self):\n",
    "        self.__frame={1:'s'}\n",
    "        self.__tipo='felino'\n",
    "\n",
    "    def __ini__(self):\n",
    "        self.meu='ney'\n",
    "    def settipo(self,c):\n",
    "        self.tipo=c\n",
    "    def ptipo(self):\n",
    "        print(self.__tipo)\n",
    "    def pframe(self):\n",
    "        print(self.__frame)\n",
    "    \n",
    "b=gato()\n",
    "#b.settipo('banana')\n",
    "print(b.ptipo())\n",
    "g=gato()\n",
    "print(g.ptipo())\n",
    "print(b.pframe())\n",
    "\n",
    "class mam(gato):\n",
    "    def __ini__(self):\n",
    "        #self.frame=super().frame\n",
    "        gato.__init__(self)\n",
    "        self.tipo='abobora'\n",
    "\n",
    "        self.meu='ney'\n",
    "x=gato()\n",
    "x.ptipo\n",
    "\n",
    "\n",
    "\n",
    "    \n",
    "\n",
    "    "
   ]
  },
  {
   "cell_type": "code",
   "execution_count": null,
   "id": "d9a4ff65",
   "metadata": {
    "collapsed": true
   },
   "outputs": [],
   "source": [
    "menu=Menu(nav.window_handles[0],nav)\n",
    "#menu.acessar_menu('manutencao','gestao','programacao')"
   ]
  },
  {
   "cell_type": "code",
   "execution_count": 24,
   "id": "3e0b8d76",
   "metadata": {},
   "outputs": [
    {
     "name": "stdout",
     "output_type": "stream",
     "text": [
      "man\n",
      "ge\n",
      "pro\n"
     ]
    }
   ],
   "source": [
    "def  acessar_menu(*menu): \n",
    "    menus=[{},{},{}]  \n",
    "    menus[0]['manutencao']='man'\n",
    "\n",
    "    menus[1]['gestao']='ge'\n",
    "    menus[2]['programacao']='pro'        \n",
    "    cont=0\n",
    "\n",
    "             \n",
    "        if cont<2:                \n",
    "            print(menus[cont][m])\n",
    "        else:\n",
    "            print(menus[cont][m])\n",
    "        cont+=1\n",
    "acessar_menu('manutencao','gestao','programacao')\n",
    "       \n",
    "        \n",
    "       "
   ]
  },
  {
   "cell_type": "code",
   "execution_count": 90,
   "id": "3d71cdde",
   "metadata": {},
   "outputs": [
    {
     "name": "stdout",
     "output_type": "stream",
     "text": [
      "manutencao\n",
      "gestao\n",
      "programacao\n"
     ]
    }
   ],
   "source": [
    " def acessar_menu(*menu):\n",
    "       # self.iframe_default()\n",
    "        nav.find_element_by_xpath('//*[@id=\"imgWidget\"]').click()\n",
    "        \n",
    "        menus=[{},{},{}]  \n",
    "        menus[0]['manutencao']='//*[@id=\"ext-gen119\"]/div/li[4]/div'\n",
    "\n",
    "        menus[1]['gestao']='//*[@id=\"ext-gen119\"]/div/li[4]/ul/li[2]/div'\n",
    "        menus[2]['programacao']='//*[@id=\"ext-gen119\"]/div/li[4]/ul/li[2]/ul/li[1]/div/a/span'        \n",
    "        cont=0\n",
    "        \n",
    "        for m in menu: \n",
    "            \n",
    "            if cont<2: \n",
    "                t=nav.find_element_by_xpath(str(menus[cont][m]))\n",
    "                e=t.get_attribute('class')\n",
    "                #print(e)\n",
    "                if 'x-tree-node-collapsed' in e:\n",
    "                    t.click()\n",
    "                \n",
    "            else:\n",
    "                t=nav.find_element_by_xpath(str(menus[cont][m]))\n",
    "                t.click()\n",
    "            print(m)\n",
    "                \n",
    "            cont+=1\n",
    "acessar_menu('manutencao','gestao','programacao')"
   ]
  },
  {
   "cell_type": "code",
   "execution_count": 91,
   "id": "da3b6cad",
   "metadata": {},
   "outputs": [
    {
     "name": "stdout",
     "output_type": "stream",
     "text": [
      "\n"
     ]
    }
   ],
   "source": [
    "#def acessar_menu(*menu):\n",
    "       # self.iframe_default()\n",
    "nav.find_element_by_xpath('//*[@id=\"imgWidget\"]').click()\n",
    "   \n",
    "menus=[{},{},{}]  \n",
    "menus[0]['manutencao']='//*[@id=\"ext-gen119\"]/div/li[4]/div'\n",
    "\n",
    "menus[1]['gestao']='//*[@id=\"ext-gen119\"]/div/li[4]/ul/li[2]/div'\n",
    "menus[2]['programacao']='//*[@id=\"ext-gen119\"]/div/li[4]/ul/li[2]/ul/li[1]/div/a/span'        \n",
    "cont=0\n",
    "\n",
    "m=('manutencao','gestao','programacao')          \n",
    "if cont<2: \n",
    "    t=nav.find_element_by_xpath(str(menus[cont][m[0]]))\n",
    "    \n",
    "    e=t.get_attribute('style')\n",
    "    print(e)\n",
    "    if 'x-tree-node-collapsed' in e:\n",
    "        t.click()\n",
    "\n",
    "else:\n",
    "    t=nav.find_element_by_xpath(str(menus[cont][m]))\n",
    "    t.click()\n",
    "\n"
   ]
  },
  {
   "cell_type": "code",
   "execution_count": 88,
   "id": "564e0c62",
   "metadata": {},
   "outputs": [
    {
     "name": "stdout",
     "output_type": "stream",
     "text": [
      "x-tree-node-el x-unselectable x-tree-selected x-tree-node-collapsed\n"
     ]
    }
   ],
   "source": [
    "tx=nav.find_element_by_xpath(menus[0]['manutencao']).get_attribute('class')\n",
    "print(tx)"
   ]
  },
  {
   "cell_type": "code",
   "execution_count": null,
   "id": "a9a8ed0e",
   "metadata": {},
   "outputs": [],
   "source": [
    "<div ext:tree-node-id=\"module_126\" class=\"x-tree-node-el x-unselectable x-tree-selected x-tree-node-expanded \" unselectable=\"on\"><span class=\"x-tree-node-indent\"></span><img src=\"http://srvsesuite.funed.lan/se/common/baseclass/baseclass/1_0_0/ext/2_2_0/resources/images/default/s.gif\" class=\"x-tree-ec-icon x-tree-elbow-minus\"><img src=\"common/baseclass/imgs/isosystem_icon/25.png\" class=\"x-tree-node-icon x-tree-node-inline-icon se-adm-module-tree-icon\" unselectable=\"on\"><a hidefocus=\"on\" class=\"x-tree-node-anchor\" href=\"#\" tabindex=\"1\"><span unselectable=\"on\">Manutenção</span></a></div>\n",
    "<div ext:tree-node-id=\"module_126\" class=\"x-tree-node-el x-unselectable x-tree-selected x-tree-node-collapsed \" unselectable=\"on\"><span class=\"x-tree-node-indent\"></span><img src=\"http://srvsesuite.funed.lan/se/common/baseclass/baseclass/1_0_0/ext/2_2_0/resources/images/default/s.gif\" class=\"x-tree-ec-icon x-tree-elbow-plus\"><img src=\"common/baseclass/imgs/isosystem_icon/25.png\" class=\"x-tree-node-icon x-tree-node-inline-icon se-adm-module-tree-icon\" unselectable=\"on\"><a hidefocus=\"on\" class=\"x-tree-node-anchor\" href=\"#\" tabindex=\"1\"><span unselectable=\"on\">Manutenção</span></a></div>\n",
    "<div ext:tree-node-id=\"menu_200003126\" class=\"x-tree-node-el x-unselectable x-tree-node-collapsed \" unselectable=\"on\"><span class=\"x-tree-node-indent\"><img src=\"http://srvsesuite.funed.lan/se/common/baseclass/baseclass/1_0_0/ext/2_2_0/resources/images/default/s.gif\" class=\"x-tree-elbow-line\"></span><img src=\"http://srvsesuite.funed.lan/se/common/baseclass/baseclass/1_0_0/ext/2_2_0/resources/images/default/s.gif\" class=\"x-tree-ec-icon x-tree-elbow-plus\"><img src=\"http://srvsesuite.funed.lan/se/common/baseclass/baseclass/1_0_0/ext/2_2_0/resources/images/default/s.gif\" class=\"x-tree-node-icon\" unselectable=\"on\"><a hidefocus=\"on\" class=\"x-tree-node-anchor\" href=\"#\" tabindex=\"1\"><span unselectable=\"on\">Gestão</span></a></div>\n",
    "<div ext:tree-node-id=\"menu_200002126\" class=\"x-tree-node-el x-unselectable x-tree-node-expanded \" unselectable=\"on\"><span class=\"x-tree-node-indent\"><img src=\"http://srvsesuite.funed.lan/se/common/baseclass/baseclass/1_0_0/ext/2_2_0/resources/images/default/s.gif\" class=\"x-tree-elbow-line\"></span><img src=\"http://srvsesuite.funed.lan/se/common/baseclass/baseclass/1_0_0/ext/2_2_0/resources/images/default/s.gif\" class=\"x-tree-ec-icon x-tree-elbow-minus\"><img src=\"http://srvsesuite.funed.lan/se/common/baseclass/baseclass/1_0_0/ext/2_2_0/resources/images/default/s.gif\" class=\"x-tree-node-icon\" unselectable=\"on\"><a hidefocus=\"on\" class=\"x-tree-node-anchor\" href=\"#\" tabindex=\"1\"><span unselectable=\"on\">Execução</span></a></div>  \n",
    "    \n",
    "    \n",
    "\n",
    "    \n",
    "    "
   ]
  },
  {
   "cell_type": "code",
   "execution_count": 72,
   "id": "2bd4a528",
   "metadata": {},
   "outputs": [
    {
     "name": "stdout",
     "output_type": "stream",
     "text": [
      "sim\n"
     ]
    }
   ],
   "source": [
    "x='sss'\n",
    "if 's' in x:\n",
    "    print('sim')"
   ]
  },
  {
   "cell_type": "code",
   "execution_count": 70,
   "id": "347c7806",
   "metadata": {},
   "outputs": [],
   "source": [
    "t=nav.find_element_by_xpath('//*[@id=\"ext-gen119\"]/div/li[4]/div')\n",
    "t.click()\n",
    "#e=t.get_attribute('style')\n",
    "#print(e)"
   ]
  },
  {
   "cell_type": "code",
   "execution_count": 55,
   "id": "19a7fd9c",
   "metadata": {},
   "outputs": [],
   "source": [
    "\n",
    "menu=Janela(nav.window_handles[-1:-2],nav)\n"
   ]
  },
  {
   "cell_type": "code",
   "execution_count": 169,
   "id": "0d30294c",
   "metadata": {},
   "outputs": [],
   "source": [
    "driver=Driver()\n",
    "driver.acessar()\n",
    "nav=driver.get_driver()"
   ]
  },
  {
   "cell_type": "markdown",
   "id": "naughty-liverpool",
   "metadata": {
    "id": "institutional-burlington"
   },
   "source": [
    "##**Funed Automação**"
   ]
  },
  {
   "cell_type": "code",
   "execution_count": 27,
   "id": "floppy-resource",
   "metadata": {
    "id": "vulnerable-dividend"
   },
   "outputs": [],
   "source": [
    "\n",
    "#Import selenium path w = webdriver.Chrome(executable_path=\"C:\\\\Users\\\\chromedriver.exe\", chrome_options=options)\n",
    "from selenium import webdriver\n",
    "from selenium.common.exceptions import NoSuchElementException \n",
    "\n",
    "from selenium.webdriver.common.keys import Keys\n",
    "from selenium.webdriver import ActionChains\n",
    "import pyautogui as pg\n",
    "import time as tm\n",
    "from selenium.webdriver.chrome.options import Options\n",
    "import os\n",
    "#os.enviton['PATH']+=os.pathsep+r'C:/Users/lejog/Downloads/chromedriver.exe'\n",
    "\n",
    "options = webdriver.ChromeOptions() \n",
    "options.add_argument(\"download.default_directory=C:/Temp\")\n",
    "\n",
    "#driver = webdriver.Chrome(chrome_options=options)\n",
    "\n",
    "\n",
    "\n",
    "navegador=webdriver.Chrome(options=options)\n",
    "\n",
    "\n",
    "\n",
    "driver=navegador\n",
    "def autenticacao():\n",
    "    navegador.get(\"http://srvsesuite.funed.lan/se/\")\n",
    "    handles=navegador.window_handles\n",
    "    navegador.switch_to.window(handles[0]) \n",
    "    navegador.maximize_window()\n",
    "    navegador.find_element_by_class_name\n",
    "    \n",
    "    #tm.sleep(1)\n",
    "    #pg.hotkey('alt','tab')\n",
    "    tm.sleep(1)\n",
    "    pg.write('leandro.gama')\n",
    "    #tm.sleep(1)\n",
    "    pg.press('tab')\n",
    "    tm.sleep(0.5)\n",
    "    pg.write('Mansel@00')\n",
    "    pg.press('enter')\n",
    "autenticacao()\n",
    "#navegador.switch_to.window(navegador.window_handles[len(navegador.window_handles)-1])\n",
    "def iframe_esquerda():\n",
    "    iframe_default()\n",
    "    iframe=navegador.find_element_by_xpath('//*[@id=\"isosystem_contentfrm\"]')\n",
    "    navegador.switch_to.frame(iframe)\n",
    "    iframe=navegador.find_element_by_xpath('//*[@id=\"isoleft\"]')\n",
    "    navegador.switch_to.frame(iframe)\n",
    "    navegador.find_elements_by_xpath('/html/body/div/div/div[1]/h2[2]')[0].click()\n",
    "    iframe=navegador.find_element_by_xpath('//*[@id=\"isoleft_filter\"]')\n",
    "    navegador.switch_to.frame(iframe)\n",
    "def iframe_direita():\n",
    "    \n",
    "    iframe_default()\n",
    "    iframe=navegador.find_element_by_xpath('//*[@id=\"isosystem_contentfrm\"]')\n",
    "    navegador.switch_to.frame(iframe)\n",
    "    iframe=navegador.find_element_by_xpath('//*[@id=\"isoright\"]')\n",
    "    navegador.switch_to.frame(iframe)\n",
    "def iframe_topo():\n",
    "    iframe_default()\n",
    "    iframe=navegador.find_element_by_xpath('//*[@id=\"isosystem_contentfrm\"]')\n",
    "    navegador.switch_to.frame(iframe)\n",
    "    \n",
    "def iframe_default():    \n",
    "    \n",
    "    navegador.switch_to.default_content()\n",
    "    \n",
    "#Busca    \n",
    "def busca_execucao_execucaodeAtividade(busca,dti='',dtf=''):\n",
    "    iframe_esquerda()\n",
    "    #Data Plan Inicio\n",
    "    elem=navegador.find_element_by_xpath('//*[@id=\"dtstartplan\"]')\n",
    "    elem.clear()\n",
    "    elem.send_keys(dti)\n",
    "    #Data Plan fim\n",
    "    elem=navegador.find_element_by_xpath('//*[@id=\"dtfinishplan\"]')\n",
    "    elem.clear()\n",
    "    elem.send_keys(dtf)\n",
    "    #Id Busca\n",
    "    elem=navegador.find_element_by_xpath('//*[@id=\"idactivity\"]')\n",
    "    elem.clear()\n",
    "    elem.send_keys(busca)\n",
    "    #Busca\n",
    "    elem.send_keys(Keys.RETURN)\n",
    "    iframe_direita()\n",
    "    navegador.find_element_by_xpath('//*[@id=\"t_content_grobject\"]/thead/tr[2]/th[4]/nobr/a').click()#ordem crescente \n",
    "def programacao_busca_atividade(busca):\n",
    "    iframe_esquerda()\n",
    "    elem=navegador.find_element_by_xpath('//*[@id=\"idactivity\"]')\n",
    "    elem.clear()\n",
    "    elem.send_keys(busca)\n",
    "    elem.send_keys(Keys.RETURN)\n",
    "    iframe_direita()\n",
    "    navegador.find_element_by_xpath('//*[@id=\"t_content_grobject\"]/thead/tr[2]/th[4]/nobr/a').click()\n",
    "##\n",
    "def addToClipBoard(text):\n",
    "    command = 'echo | set /p nul=' + text.strip() + '| clip'\n",
    "    os.system(command)  \n",
    "def paste(): \n",
    "    driver = navegador    \n",
    "    a = ActionChains(driver)    \n",
    "    a.key_down(Keys.CONTROL).send_keys('V').key_up(Keys.CONTROL).perform()\n",
    "    \n",
    "def enter(): \n",
    "    driver = navegador    \n",
    "    a = ActionChains(driver)    \n",
    "    a.send_keys(Keys.ENTER).perform()\n",
    "#acessar Menu\n",
    "def acessar_menu_execucao():\n",
    "    iframe_default()\n",
    "    navegador.find_element_by_xpath('//*[@id=\"imgWidget\"]').click()#Acessa menu\n",
    "    ##Manutenção\n",
    "    t=navegador.find_element_by_xpath('//*[@id=\"ext-gen119\"]/div/li[4]/ul')\n",
    "    e=t.get_attribute('style')\n",
    "    if e=='display: none;':\n",
    "        navegador.find_element_by_xpath('//*[@id=\"ext-gen119\"]/div/li[4]/div/a/span').click()\n",
    "    ##Gestão\n",
    "    t=navegador.find_element_by_xpath('//*[@id=\"ext-gen119\"]/div/li[4]/ul/li[3]/ul')\n",
    "    e=t.get_attribute('style')\n",
    "    if e==\"display: none;\":\n",
    "        navegador.find_element_by_xpath('//*[@id=\"ext-gen119\"]/div/li[4]/ul/li[3]/div/a/span').click()\n",
    "    ##Programação de atividade\n",
    "    navegador.find_element_by_xpath('//*[@id=\"ext-gen119\"]/div/li[4]/ul/li[3]/ul/li[3]/div/a/span').click()\n",
    "    #navegador.find_element_by_xpath('').click()\n",
    "def acessar_menu_Gestao_Programacao():\n",
    "    iframe_default()\n",
    "    navegador.find_element_by_xpath('//*[@id=\"imgWidget\"]').click()#Acessa menu\n",
    "    ##Manutenção\n",
    "    t=navegador.find_element_by_xpath('//*[@id=\"ext-gen119\"]/div/li[4]/ul')\n",
    "    e=t.get_attribute('style')\n",
    "    if e=='display: none;':\n",
    "        navegador.find_element_by_xpath('//*[@id=\"ext-gen119\"]/div/li[4]/div/a/span').click()\n",
    "    ##Gestão\n",
    "    t=navegador.find_element_by_xpath('//*[@id=\"ext-gen119\"]/div/li[4]/ul/li[2]/ul')\n",
    "    e=t.get_attribute('style')\n",
    "    if e==\"display: none;\":\n",
    "        navegador.find_element_by_xpath('//*[@id=\"ext-gen119\"]/div/li[4]/ul/li[2]/div/a/span').click()\n",
    "    ##Programação de atividade\n",
    "    navegador.find_element_by_xpath('//*[@id=\"ext-gen119\"]/div/li[4]/ul/li[2]/ul/li[1]/div/a/span').click()\n",
    "\n",
    "\n",
    "def download_pdf(nome,url):\n",
    "    import requests\n",
    "    file_url = url\n",
    "    r = requests.get(file_url, stream = True)\n",
    "\n",
    "    with open(\"c:\\\\Temp\\\\\"+nome+\".pdf\",\"wb\") as pdf:\n",
    "        for chunk in r.iter_content(chunk_size=1024):\n",
    "            # writing one chunk at a time to pdf file\n",
    "            if chunk:\n",
    "                pdf.write(chunk)\n",
    "\n",
    "def exist_by_xpath(xpath):\n",
    "    try:\n",
    "        navegador.find_element_by_xpath(xpath)\n",
    "    except NoSuchElementException:\n",
    "        return False\n",
    "    return True\n",
    "def download_pdf(nome,url):\n",
    "    import requests\n",
    "    file_url = url\n",
    "\n",
    "    r = requests.get(file_url, stream = True)\n",
    "\n",
    "    with open(\"c:\\\\Temp\\\\\"+nome+\".pdf\",\"wb\") as pdf:\n",
    "        for chunk in r.iter_content(chunk_size=1024):\n",
    "\n",
    "             # writing one chunk at a time to pdf file\n",
    "             if chunk:\n",
    "                 pdf.write(chunk)\n"
   ]
  },
  {
   "cell_type": "code",
   "execution_count": 33,
   "id": "5d8935d5",
   "metadata": {},
   "outputs": [
    {
     "ename": "IndexError",
     "evalue": "list index out of range",
     "output_type": "error",
     "traceback": [
      "\u001b[1;31m---------------------------------------------------------------------------\u001b[0m",
      "\u001b[1;31mIndexError\u001b[0m                                Traceback (most recent call last)",
      "\u001b[1;32m~\\AppData\\Local\\Temp/ipykernel_22400/935890681.py\u001b[0m in \u001b[0;36m<module>\u001b[1;34m\u001b[0m\n\u001b[1;32m----> 1\u001b[1;33m \u001b[0mnav\u001b[0m\u001b[1;33m.\u001b[0m\u001b[0mswitch_to_window\u001b[0m\u001b[1;33m(\u001b[0m\u001b[0mnav\u001b[0m\u001b[1;33m.\u001b[0m\u001b[0mwindow_handles\u001b[0m\u001b[1;33m[\u001b[0m\u001b[1;36m1\u001b[0m\u001b[1;33m]\u001b[0m\u001b[1;33m)\u001b[0m\u001b[1;33m\u001b[0m\u001b[1;33m\u001b[0m\u001b[0m\n\u001b[0m\u001b[0;32m      2\u001b[0m \u001b[0mnav\u001b[0m\u001b[1;33m.\u001b[0m\u001b[0mfind_element_by_xpath\u001b[0m\u001b[1;33m(\u001b[0m\u001b[1;34m'//*[@id=\"plugin\"]'\u001b[0m\u001b[1;33m)\u001b[0m\u001b[1;33m\u001b[0m\u001b[1;33m\u001b[0m\u001b[0m\n",
      "\u001b[1;31mIndexError\u001b[0m: list index out of range"
     ]
    }
   ],
   "source": [
    "nav.switch_to_window(nav.window_handles[1])\n",
    "#nav.find_element_by_xpath('//*[@id=\"plugin\"]')"
   ]
  },
  {
   "cell_type": "markdown",
   "id": "99fac105",
   "metadata": {},
   "source": []
  },
  {
   "cell_type": "code",
   "execution_count": null,
   "id": "1c440bc7",
   "metadata": {
    "collapsed": true
   },
   "outputs": [],
   "source": []
  },
  {
   "cell_type": "code",
   "execution_count": 3,
   "id": "70e506a4",
   "metadata": {},
   "outputs": [
    {
     "ename": "ModuleNotFoundError",
     "evalue": "No module named 'selenium'",
     "output_type": "error",
     "traceback": [
      "\u001b[1;31m---------------------------------------------------------------------------\u001b[0m",
      "\u001b[1;31mModuleNotFoundError\u001b[0m                       Traceback (most recent call last)",
      "\u001b[1;32m<ipython-input-3-36c52d9e97da>\u001b[0m in \u001b[0;36m<module>\u001b[1;34m\u001b[0m\n\u001b[1;32m----> 1\u001b[1;33m \u001b[1;32mfrom\u001b[0m \u001b[0mselenium\u001b[0m \u001b[1;32mimport\u001b[0m \u001b[0mwebdriver\u001b[0m\u001b[1;33m\u001b[0m\u001b[1;33m\u001b[0m\u001b[0m\n\u001b[0m\u001b[0;32m      2\u001b[0m \u001b[1;33m\u001b[0m\u001b[0m\n\u001b[0;32m      3\u001b[0m \u001b[1;31m#os.enviton['PATH']+=os.pathsep+r'C:/Users/lejog/Downloads/chromedriver.exe'\u001b[0m\u001b[1;33m\u001b[0m\u001b[1;33m\u001b[0m\u001b[1;33m\u001b[0m\u001b[0m\n\u001b[0;32m      4\u001b[0m \u001b[1;33m\u001b[0m\u001b[0m\n\u001b[0;32m      5\u001b[0m \u001b[1;33m\u001b[0m\u001b[0m\n",
      "\u001b[1;31mModuleNotFoundError\u001b[0m: No module named 'selenium'"
     ]
    }
   ],
   "source": [
    "\n",
    "from selenium import webdriver\n",
    "\n",
    "#os.enviton['PATH']+=os.pathsep+r'C:/Users/lejog/Downloads/chromedriver.exe'\n",
    "\n",
    "\n",
    "\n",
    "\n",
    "navegador=webdriver.Chrome(executable_path=\"chromedriver.exe\")"
   ]
  },
  {
   "cell_type": "markdown",
   "id": "present-semiconductor",
   "metadata": {},
   "source": []
  },
  {
   "cell_type": "code",
   "execution_count": 28,
   "id": "smaller-cologne",
   "metadata": {
    "id": "opposite-croatia"
   },
   "outputs": [],
   "source": [
    "\n",
    "def inicio_planejamento():\n",
    "    handles=navegador.window_handles\n",
    "    navegador.switch_to.window(handles[0])  \n",
    "    acessar_menu_Gestao_Programacao()\n",
    "    iframe_esquerda()\n",
    "    programacao_busca_atividade('ços')\n",
    "inicio_planejamento()"
   ]
  },
  {
   "cell_type": "code",
   "execution_count": null,
   "id": "international-termination",
   "metadata": {},
   "outputs": [],
   "source": [
    "def inicio_execucaoAtividade():\n",
    "    handles=navegador.window_handles\n",
    "    navegador.switch_to.window(handles[0])  \n",
    "    acessar_menu_Gestao_Programacao()\n",
    "    iframe_esquerda()\n",
    "   \n",
    "inicio_execucaoAtividade()"
   ]
  },
  {
   "cell_type": "code",
   "execution_count": 18,
   "id": "recovered-anger",
   "metadata": {
    "id": "royal-guinea"
   },
   "outputs": [],
   "source": [
    "#Pesquisa execução\n",
    "acessar_menu_execucao()\n",
    "iframe_esquerda()\n",
    "busca_execucao_execucaodeAtividade('smc','01/05/2021','31/05/2021')"
   ]
  },
  {
   "cell_type": "code",
   "execution_count": 16,
   "id": "challenging-shopper",
   "metadata": {},
   "outputs": [
    {
     "name": "stdout",
     "output_type": "stream",
     "text": [
      "MP-ENGETRONIC SERVIÇOS-000625\n"
     ]
    }
   ],
   "source": [
    "#direita lista\n",
    "iframe_direita()\n",
    "#navegador.find_element_by_xpath('//*[@id=\"t_content_grobject\"]/thead/tr[2]/th[4]/nobr/a').click()\n",
    "navegador.find_element_by_xpath('//*[@id=\"t_content_grobject\"]/tbody/tr[1]/td[5]/nobr').click()\n",
    "x= navegador.find_element_by_xpath('//*[@id=\"t_content_grobject\"]/tbody/tr[1]/td[5]/nobr')\n",
    "addToClipBoard(x.get_attribute(\"innerHTML\"))\n",
    "print(x.get_attribute(\"innerHTML\"))\n",
    "#from selenium.webdriver import ActionChains\n",
    "#from selenium.webdriver.common.keys import Keys\n"
   ]
  },
  {
   "cell_type": "code",
   "execution_count": 29,
   "id": "fundamental-african",
   "metadata": {
    "id": "resident-french"
   },
   "outputs": [
    {
     "data": {
      "text/plain": [
       "'http://srvsesuite.funed.lan/se/temp/seJasperPdf6293534062582526173.pdf'"
      ]
     },
     "execution_count": 29,
     "metadata": {},
     "output_type": "execute_result"
    }
   ],
   "source": [
    "def download_url():\n",
    "    ##Download Click\n",
    "    handles=navegador.window_handles\n",
    "    navegador.switch_to.window(handles[0])  \n",
    "    iframe_default()\n",
    "    iframe=navegador.find_element_by_xpath('//*[@id=\"isosystem_contentfrm\"]')\n",
    "    navegador.switch_to.frame(iframe)\n",
    "    navegador.find_element_by_xpath('//*[@id=\"se_admin_btnreport\"]/img').click()\n",
    "    navegador.find_element_by_xpath('//*[@id=\"btnreport2\"]').click()\n",
    "    #download Get URL\n",
    "    handles=navegador.window_handles\n",
    "    navegador.switch_to.window(handles[1])  \n",
    "    while True:\n",
    "        if exist_by_xpath('//*[@id=\"reportPdfFrame\"]')==True:\n",
    "            if len(navegador.find_element_by_id('reportPdfFrame').get_attribute(\"src\"))>0:\n",
    "                break\n",
    "    iframe_default()    \n",
    "    y=navegador.find_element_by_id('reportPdfFrame')\n",
    "    pdf_url=y.get_attribute(\"src\")\n",
    "    return pdf_url\n",
    "download_url()\n",
    "   \n",
    "#download_click()\n"
   ]
  },
  {
   "cell_type": "code",
   "execution_count": 7,
   "id": "elegant-sensitivity",
   "metadata": {},
   "outputs": [],
   "source": [
    "#Salvando PDF\n",
    "#/html/body/div[2]/table/tbody/tr[1]/td/div/table/tbody/tr[1]\n",
    "\n",
    "id_os=''\n",
    "total_OS=len(navegador.find_elements_by_xpath('/html/body/div[2]/table/tbody/tr[1]/td/div/table/tbody/tr'))\n",
    "for linha in  range(1,(total_OS+1)):\n",
    "    handles=navegador.window_handles\n",
    "    navegador.switch_to.window(handles[0])    \n",
    "    iframe_direita()\n",
    "    col=str(6) #5 - id - MP / 6 - id ativo\n",
    "    navegador.find_element_by_xpath(f'//*[@id=\"t_content_grobject\"]/tbody/tr['+str(linha)+']/td['+col+']/nobr').click()\n",
    "    id_os= navegador.find_element_by_xpath(f'//*[@id=\"t_content_grobject\"]/tbody/tr['+str(linha)+']/td['+col+']/nobr').get_attribute(\"innerHTML\")\n",
    "    dUrl=download_url()\n",
    "    download_pdf(id_os,dUrl)\n",
    "    \n",
    "    #addToClipBoard(x.get_attribute(\"innerHTML\"))\n",
    "    #print(id_os)\n",
    "navegador.close()\n",
    "    \n",
    "    \n",
    "    \n",
    "\n",
    "#linhas=lenavegador.find_element_by_tag_name('//*[@id=\"t_content_grobject\"]/tbody/tr[0]')\n",
    "#navegador.find_element_by_xpath('//*[@id=\"t_content_grobject\"]/tbody/tr[1]/td[5]/nobr').click()\n",
    "#print(len(linhas))"
   ]
  },
  {
   "cell_type": "code",
   "execution_count": 7,
   "id": "virgin-plane",
   "metadata": {},
   "outputs": [],
   "source": [
    "handles=navegador.window_handles\n",
    "navegador.switch_to.window(handles[1])  \n",
    "iframe=navegador.find_element_by_xpath('//*[@id=\"ifrm_confsched\"]')\n",
    "navegador.switch_to.frame(iframe)\n",
    "navegador.find_element_by_xpath()"
   ]
  },
  {
   "cell_type": "code",
   "execution_count": 52,
   "id": "concrete-summer",
   "metadata": {},
   "outputs": [],
   "source": [
    "handles=navegador.window_handles\n",
    "navegador.switch_to.window(handles[2])  \n",
    "#navegador.find_element_zo('/html/body/table[2]/tbody/tr[2]/td/div/div/form/div/div/div/div[2]/div[1]/table/tbody/tr[2]/td/table[1]/tbody/tr[2]/td/table/tbody/tr/td[1]/button/img').click()\n",
    "navegador.find_element_by_xpath('//*[@id=\"rdurlbox\"]').click()\n",
    "#navegador.find_element_by_xpath('/html/body/table[2]/tbody/tr[2]/td/div/div/form/div/div/div/div[2]/div[1]/table/tbody/tr[2]/td/table[2]/tbody/tr[2]/td/table/tbody/tr/td[1]/label/span').send_keys('C:\\Temp\\ubuntu-logo32.png')"
   ]
  },
  {
   "cell_type": "code",
   "execution_count": 80,
   "id": "middle-lover",
   "metadata": {},
   "outputs": [
    {
     "name": "stdout",
     "output_type": "stream",
     "text": [
      "Value: None\n"
     ]
    }
   ],
   "source": [
    "handles=navegador.window_handles\n",
    "navegador.switch_to.window(handles[2])  \n",
    "a = ActionChains(navegador)\n",
    "elm=navegador.find_element_by_css_selector(\"#idattachment\")\n",
    "elm_atr=elm.get_attribute('text')\n",
    "print (\"Value: {0}\".format(elm_atr))\n",
    "\n",
    "\n",
    "#a.send_keys(Keys.TAB).perform()\n",
    "#a.send_keys('C:\\Temp\\ubuntu-logo32.png').perform()\n",
    "#pg.press('tab')\n",
    "#tm.sleep(1)\n",
    "\n",
    "#pg.write('C:\\Temp\\ubuntu-logo32.png')\n",
    "    #a.key_down(Keys.CONTROL).send_keys('V').key_up(Keys.CONTROL).perform()"
   ]
  },
  {
   "cell_type": "code",
   "execution_count": 79,
   "id": "massive-midnight",
   "metadata": {},
   "outputs": [
    {
     "ename": "NoSuchElementException",
     "evalue": "Message: no such element: Unable to locate element: {\"method\":\"css selector\",\"selector\":\".vote-link.up\"}\n  (Session info: chrome=91.0.4472.124)\n",
     "output_type": "error",
     "traceback": [
      "\u001b[1;31m---------------------------------------------------------------------------\u001b[0m",
      "\u001b[1;31mNoSuchElementException\u001b[0m                    Traceback (most recent call last)",
      "\u001b[1;32m<ipython-input-79-bb64b62dde21>\u001b[0m in \u001b[0;36m<module>\u001b[1;34m\u001b[0m\n\u001b[1;32m----> 1\u001b[1;33m \u001b[0melement\u001b[0m \u001b[1;33m=\u001b[0m \u001b[0mdriver\u001b[0m\u001b[1;33m.\u001b[0m\u001b[0mfind_element_by_css_selector\u001b[0m\u001b[1;33m(\u001b[0m\u001b[1;34m\".vote-link.up\"\u001b[0m\u001b[1;33m)\u001b[0m\u001b[1;33m\u001b[0m\u001b[1;33m\u001b[0m\u001b[0m\n\u001b[0m\u001b[0;32m      2\u001b[0m \u001b[0melement_attribute_value\u001b[0m \u001b[1;33m=\u001b[0m \u001b[0melement\u001b[0m\u001b[1;33m.\u001b[0m\u001b[0mget_attribute\u001b[0m\u001b[1;33m(\u001b[0m\u001b[1;34m\"data-faucet\"\u001b[0m\u001b[1;33m)\u001b[0m\u001b[1;33m\u001b[0m\u001b[1;33m\u001b[0m\u001b[0m\n\u001b[0;32m      3\u001b[0m \u001b[1;32mif\u001b[0m \u001b[0melement_attribute_value\u001b[0m \u001b[1;33m==\u001b[0m \u001b[1;34m\"39274\"\u001b[0m\u001b[1;33m:\u001b[0m\u001b[1;33m\u001b[0m\u001b[1;33m\u001b[0m\u001b[0m\n\u001b[0;32m      4\u001b[0m     \u001b[0mprint\u001b[0m \u001b[1;33m(\u001b[0m\u001b[1;34m\"Value: {0}\"\u001b[0m\u001b[1;33m.\u001b[0m\u001b[0mformat\u001b[0m\u001b[1;33m(\u001b[0m\u001b[0melement_attribute_value\u001b[0m\u001b[1;33m)\u001b[0m\u001b[1;33m)\u001b[0m\u001b[1;33m\u001b[0m\u001b[1;33m\u001b[0m\u001b[0m\n\u001b[0;32m      5\u001b[0m \u001b[0mdriver\u001b[0m\u001b[1;33m.\u001b[0m\u001b[0mquit\u001b[0m\u001b[1;33m(\u001b[0m\u001b[1;33m)\u001b[0m\u001b[1;33m\u001b[0m\u001b[1;33m\u001b[0m\u001b[0m\n",
      "\u001b[1;32mc:\\workspace\\igti\\ciencia de dados\\modulo 2\\env\\coleta_dados\\lib\\site-packages\\selenium\\webdriver\\remote\\webdriver.py\u001b[0m in \u001b[0;36mfind_element_by_css_selector\u001b[1;34m(self, css_selector)\u001b[0m\n\u001b[0;32m    596\u001b[0m             \u001b[0melement\u001b[0m \u001b[1;33m=\u001b[0m \u001b[0mdriver\u001b[0m\u001b[1;33m.\u001b[0m\u001b[0mfind_element_by_css_selector\u001b[0m\u001b[1;33m(\u001b[0m\u001b[1;34m'#foo'\u001b[0m\u001b[1;33m)\u001b[0m\u001b[1;33m\u001b[0m\u001b[1;33m\u001b[0m\u001b[0m\n\u001b[0;32m    597\u001b[0m         \"\"\"\n\u001b[1;32m--> 598\u001b[1;33m         \u001b[1;32mreturn\u001b[0m \u001b[0mself\u001b[0m\u001b[1;33m.\u001b[0m\u001b[0mfind_element\u001b[0m\u001b[1;33m(\u001b[0m\u001b[0mby\u001b[0m\u001b[1;33m=\u001b[0m\u001b[0mBy\u001b[0m\u001b[1;33m.\u001b[0m\u001b[0mCSS_SELECTOR\u001b[0m\u001b[1;33m,\u001b[0m \u001b[0mvalue\u001b[0m\u001b[1;33m=\u001b[0m\u001b[0mcss_selector\u001b[0m\u001b[1;33m)\u001b[0m\u001b[1;33m\u001b[0m\u001b[1;33m\u001b[0m\u001b[0m\n\u001b[0m\u001b[0;32m    599\u001b[0m \u001b[1;33m\u001b[0m\u001b[0m\n\u001b[0;32m    600\u001b[0m     \u001b[1;32mdef\u001b[0m \u001b[0mfind_elements_by_css_selector\u001b[0m\u001b[1;33m(\u001b[0m\u001b[0mself\u001b[0m\u001b[1;33m,\u001b[0m \u001b[0mcss_selector\u001b[0m\u001b[1;33m)\u001b[0m\u001b[1;33m:\u001b[0m\u001b[1;33m\u001b[0m\u001b[1;33m\u001b[0m\u001b[0m\n",
      "\u001b[1;32mc:\\workspace\\igti\\ciencia de dados\\modulo 2\\env\\coleta_dados\\lib\\site-packages\\selenium\\webdriver\\remote\\webdriver.py\u001b[0m in \u001b[0;36mfind_element\u001b[1;34m(self, by, value)\u001b[0m\n\u001b[0;32m    974\u001b[0m                 \u001b[0mby\u001b[0m \u001b[1;33m=\u001b[0m \u001b[0mBy\u001b[0m\u001b[1;33m.\u001b[0m\u001b[0mCSS_SELECTOR\u001b[0m\u001b[1;33m\u001b[0m\u001b[1;33m\u001b[0m\u001b[0m\n\u001b[0;32m    975\u001b[0m                 \u001b[0mvalue\u001b[0m \u001b[1;33m=\u001b[0m \u001b[1;34m'[name=\"%s\"]'\u001b[0m \u001b[1;33m%\u001b[0m \u001b[0mvalue\u001b[0m\u001b[1;33m\u001b[0m\u001b[1;33m\u001b[0m\u001b[0m\n\u001b[1;32m--> 976\u001b[1;33m         return self.execute(Command.FIND_ELEMENT, {\n\u001b[0m\u001b[0;32m    977\u001b[0m             \u001b[1;34m'using'\u001b[0m\u001b[1;33m:\u001b[0m \u001b[0mby\u001b[0m\u001b[1;33m,\u001b[0m\u001b[1;33m\u001b[0m\u001b[1;33m\u001b[0m\u001b[0m\n\u001b[0;32m    978\u001b[0m             'value': value})['value']\n",
      "\u001b[1;32mc:\\workspace\\igti\\ciencia de dados\\modulo 2\\env\\coleta_dados\\lib\\site-packages\\selenium\\webdriver\\remote\\webdriver.py\u001b[0m in \u001b[0;36mexecute\u001b[1;34m(self, driver_command, params)\u001b[0m\n\u001b[0;32m    319\u001b[0m         \u001b[0mresponse\u001b[0m \u001b[1;33m=\u001b[0m \u001b[0mself\u001b[0m\u001b[1;33m.\u001b[0m\u001b[0mcommand_executor\u001b[0m\u001b[1;33m.\u001b[0m\u001b[0mexecute\u001b[0m\u001b[1;33m(\u001b[0m\u001b[0mdriver_command\u001b[0m\u001b[1;33m,\u001b[0m \u001b[0mparams\u001b[0m\u001b[1;33m)\u001b[0m\u001b[1;33m\u001b[0m\u001b[1;33m\u001b[0m\u001b[0m\n\u001b[0;32m    320\u001b[0m         \u001b[1;32mif\u001b[0m \u001b[0mresponse\u001b[0m\u001b[1;33m:\u001b[0m\u001b[1;33m\u001b[0m\u001b[1;33m\u001b[0m\u001b[0m\n\u001b[1;32m--> 321\u001b[1;33m             \u001b[0mself\u001b[0m\u001b[1;33m.\u001b[0m\u001b[0merror_handler\u001b[0m\u001b[1;33m.\u001b[0m\u001b[0mcheck_response\u001b[0m\u001b[1;33m(\u001b[0m\u001b[0mresponse\u001b[0m\u001b[1;33m)\u001b[0m\u001b[1;33m\u001b[0m\u001b[1;33m\u001b[0m\u001b[0m\n\u001b[0m\u001b[0;32m    322\u001b[0m             response['value'] = self._unwrap_value(\n\u001b[0;32m    323\u001b[0m                 response.get('value', None))\n",
      "\u001b[1;32mc:\\workspace\\igti\\ciencia de dados\\modulo 2\\env\\coleta_dados\\lib\\site-packages\\selenium\\webdriver\\remote\\errorhandler.py\u001b[0m in \u001b[0;36mcheck_response\u001b[1;34m(self, response)\u001b[0m\n\u001b[0;32m    240\u001b[0m                 \u001b[0malert_text\u001b[0m \u001b[1;33m=\u001b[0m \u001b[0mvalue\u001b[0m\u001b[1;33m[\u001b[0m\u001b[1;34m'alert'\u001b[0m\u001b[1;33m]\u001b[0m\u001b[1;33m.\u001b[0m\u001b[0mget\u001b[0m\u001b[1;33m(\u001b[0m\u001b[1;34m'text'\u001b[0m\u001b[1;33m)\u001b[0m\u001b[1;33m\u001b[0m\u001b[1;33m\u001b[0m\u001b[0m\n\u001b[0;32m    241\u001b[0m             \u001b[1;32mraise\u001b[0m \u001b[0mexception_class\u001b[0m\u001b[1;33m(\u001b[0m\u001b[0mmessage\u001b[0m\u001b[1;33m,\u001b[0m \u001b[0mscreen\u001b[0m\u001b[1;33m,\u001b[0m \u001b[0mstacktrace\u001b[0m\u001b[1;33m,\u001b[0m \u001b[0malert_text\u001b[0m\u001b[1;33m)\u001b[0m\u001b[1;33m\u001b[0m\u001b[1;33m\u001b[0m\u001b[0m\n\u001b[1;32m--> 242\u001b[1;33m         \u001b[1;32mraise\u001b[0m \u001b[0mexception_class\u001b[0m\u001b[1;33m(\u001b[0m\u001b[0mmessage\u001b[0m\u001b[1;33m,\u001b[0m \u001b[0mscreen\u001b[0m\u001b[1;33m,\u001b[0m \u001b[0mstacktrace\u001b[0m\u001b[1;33m)\u001b[0m\u001b[1;33m\u001b[0m\u001b[1;33m\u001b[0m\u001b[0m\n\u001b[0m\u001b[0;32m    243\u001b[0m \u001b[1;33m\u001b[0m\u001b[0m\n\u001b[0;32m    244\u001b[0m     \u001b[1;32mdef\u001b[0m \u001b[0m_value_or_default\u001b[0m\u001b[1;33m(\u001b[0m\u001b[0mself\u001b[0m\u001b[1;33m,\u001b[0m \u001b[0mobj\u001b[0m\u001b[1;33m,\u001b[0m \u001b[0mkey\u001b[0m\u001b[1;33m,\u001b[0m \u001b[0mdefault\u001b[0m\u001b[1;33m)\u001b[0m\u001b[1;33m:\u001b[0m\u001b[1;33m\u001b[0m\u001b[1;33m\u001b[0m\u001b[0m\n",
      "\u001b[1;31mNoSuchElementException\u001b[0m: Message: no such element: Unable to locate element: {\"method\":\"css selector\",\"selector\":\".vote-link.up\"}\n  (Session info: chrome=91.0.4472.124)\n"
     ]
    }
   ],
   "source": [
    "element = driver.find_element_by_css_selector(\".vote-link.up\")\n",
    "element_attribute_value = element.get_attribute(\"data-faucet\")\n",
    "if element_attribute_value == \"39274\":\n",
    "    print (\"Value: {0}\".format(element_attribute_value))\n",
    "driver.quit()"
   ]
  },
  {
   "cell_type": "code",
   "execution_count": null,
   "id": "floppy-representation",
   "metadata": {},
   "outputs": [],
   "source": [
    "#idattachment"
   ]
  },
  {
   "cell_type": "code",
   "execution_count": 117,
   "id": "running-pregnancy",
   "metadata": {},
   "outputs": [],
   "source": [
    "handles=navegador.window_handles\n",
    "navegador.switch_to.window(handles[2])  \n",
    "\n",
    "#elm=navegador.find_element_by_css_selector(\"#idattachment\")\n",
    "navegador.execute_script('document.getElementById(\"filebox\").value=\"C:/Temp/ubuntu-logo32.png\"')\n",
    "#navegador.execute_script(\"document.getElementById('btnnew').click()';\")\n",
    "#x=navegador.find_element_by_xpath('/html/body/table[2]/tbody/tr[2]/td/div/div/form/div/div/div/div[2]/div[1]/table/tbody/tr[2]/td/table[1]/tbody/tr[2]/td/table/tbody/tr/td[1]/button/img')\n",
    "#x.execute_script('click();')"
   ]
  },
  {
   "cell_type": "code",
   "execution_count": null,
   "id": "located-showcase",
   "metadata": {},
   "outputs": [],
   "source": []
  }
 ],
 "metadata": {
  "colab": {
   "name": "Se Suit automação_Limpo.ipynb",
   "provenance": []
  },
  "kernelspec": {
   "display_name": "Python 3 (ipykernel)",
   "language": "python",
   "name": "python3"
  },
  "language_info": {
   "codemirror_mode": {
    "name": "ipython",
    "version": 3
   },
   "file_extension": ".py",
   "mimetype": "text/x-python",
   "name": "python",
   "nbconvert_exporter": "python",
   "pygments_lexer": "ipython3",
   "version": "3.8.0"
  }
 },
 "nbformat": 4,
 "nbformat_minor": 5
}
